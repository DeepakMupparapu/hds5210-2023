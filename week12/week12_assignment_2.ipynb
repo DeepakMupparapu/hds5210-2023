{
  "cells": [
    {
      "cell_type": "markdown",
      "metadata": {
        "id": "view-in-github",
        "colab_type": "text"
      },
      "source": [
        "<a href=\"https://colab.research.google.com/github/DeepakMupparapu/hds5210-2023/blob/main/week12/week12_assignment_2.ipynb\" target=\"_parent\"><img src=\"https://colab.research.google.com/assets/colab-badge.svg\" alt=\"Open In Colab\"/></a>"
      ]
    },
    {
      "cell_type": "markdown",
      "metadata": {
        "nbgrader": {
          "grade": false,
          "grade_id": "intro",
          "locked": true,
          "schema_version": 1,
          "solution": false
        },
        "id": "bCRJBDuVB5FY"
      },
      "source": [
        "# Week 12 Assignment\n",
        "\n",
        "# PART 1 - Pivoting Data for Fun!\n",
        "\n",
        "In this exercise, we're going to work with data about condemned buildings in St. Louis.  This data set is in `https://hds5210-data.s3.awsamazon.com/condemn.txt` in CSV format."
      ]
    },
    {
      "cell_type": "markdown",
      "metadata": {
        "nbgrader": {
          "grade": false,
          "grade_id": "q1-intro",
          "locked": true,
          "schema_version": 1,
          "solution": false
        },
        "id": "v8BtW7ygB5Fc"
      },
      "source": [
        "## STEP 1: Load and Filter data\n",
        "\n",
        "For this analysis, we want to look only at a relevent range of years and only years that are in teh past.  So, let's first take a look at the data between 1986 and 2014 (inclusive of those dates).\n",
        "\n",
        "At the end of this step, you should have a data frame loaded from the condemnations file and filtered down to only the data between 1986 and 2014.  Put that into a dataframe named `condemnations`\n",
        "\n",
        "**Some helpful notes:**\n",
        "* Use the columns `InspectDate` to filter this date range"
      ]
    },
    {
      "cell_type": "code",
      "execution_count": 3,
      "metadata": {
        "nbgrader": {
          "grade": false,
          "grade_id": "q1-solution",
          "locked": false,
          "schema_version": 1,
          "solution": true
        },
        "colab": {
          "base_uri": "https://localhost:8080/"
        },
        "id": "Yymoj4sJB5Fd",
        "outputId": "1c602e95-eb30-48f0-c774-e5640de87759"
      },
      "outputs": [
        {
          "output_type": "stream",
          "name": "stderr",
          "text": [
            "<ipython-input-3-0a26a9c06fde>:4: DtypeWarning: Columns (2,8,35,36) have mixed types. Specify dtype option on import or set low_memory=False.\n",
            "  condemnations = pd.read_csv('https://hds5210-data.s3.amazonaws.com/condemn.txt')\n"
          ]
        },
        {
          "output_type": "execute_result",
          "data": {
            "text/plain": [
              "(32586, 40)"
            ]
          },
          "metadata": {},
          "execution_count": 3
        }
      ],
      "source": [
        "%matplotlib inline\n",
        "import pandas as pd\n",
        "\n",
        "condemnations = pd.read_csv('https://hds5210-data.s3.amazonaws.com/condemn.txt')\n",
        "condemnations.shape"
      ]
    },
    {
      "cell_type": "code",
      "execution_count": 10,
      "metadata": {
        "colab": {
          "base_uri": "https://localhost:8080/"
        },
        "id": "nPJn87mAB5Fe",
        "outputId": "47e9b972-cfbb-4f2f-be3d-ed15732ed96d"
      },
      "outputs": [
        {
          "output_type": "stream",
          "name": "stdout",
          "text": [
            "(30232, 40)\n"
          ]
        },
        {
          "output_type": "stream",
          "name": "stderr",
          "text": [
            "<ipython-input-10-7529218dd0c2>:4: DtypeWarning: Columns (2,8,35,36) have mixed types. Specify dtype option on import or set low_memory=False.\n",
            "  condemnations = pd.read_csv('https://hds5210-data.s3.amazonaws.com/condemn.txt')\n"
          ]
        }
      ],
      "source": [
        "import pandas as pd\n",
        "\n",
        "# You can load the data into a DataFrame\n",
        "condemnations = pd.read_csv('https://hds5210-data.s3.amazonaws.com/condemn.txt')\n",
        "\n",
        "# Convert 'InspectDate' to datetime format if it's not already\n",
        "condemnations['InspectDate'] = pd.to_datetime(condemnations['InspectDate'])\n",
        "\n",
        "# Filter the DataFrame for the desired date range\n",
        "condemnations = condemnations[(condemnations['InspectDate'] >= '1986-01-01') & (condemnations['InspectDate'] <= '2014-12-31')]\n",
        "\n",
        "# Now 'condemnations' contains only the data between 1986 and 2014\n",
        "print(condemnations.shape)\n"
      ]
    },
    {
      "cell_type": "code",
      "execution_count": 11,
      "metadata": {
        "colab": {
          "base_uri": "https://localhost:8080/"
        },
        "id": "dDIh_OyWB5Fe",
        "outputId": "f33c45da-39e0-418f-f896-f916deefcd84"
      },
      "outputs": [
        {
          "output_type": "stream",
          "name": "stdout",
          "text": [
            "<bound method NDFrame.head of        AcctNum  PrclErr AddrAdjusted  CityBlock  Parcel  OwnerCode  \\\n",
            "0          1.0      0.0        False    3652.00   341.0        1.0   \n",
            "1          2.0      0.0        False     666.00    80.0        0.0   \n",
            "2          3.0      0.0        False    3913.01   120.0        1.0   \n",
            "3          4.0      2.0        False    3744.00   145.0        0.0   \n",
            "4          5.0      0.0        False    1103.00    30.0        0.0   \n",
            "...        ...      ...          ...        ...     ...        ...   \n",
            "32575      NaN      NaN          NaN        NaN     NaN        NaN   \n",
            "32576      NaN      NaN          NaN        NaN     NaN        NaN   \n",
            "32581      NaN      NaN          NaN        NaN     NaN        NaN   \n",
            "32582      NaN      NaN          NaN        NaN     NaN        NaN   \n",
            "32585      NaN      NaN          NaN        NaN     NaN        NaN   \n",
            "\n",
            "             Handle      Parcel9 AddrNum AddrSuf  ... CensBlock00 AsrNbrhd  \\\n",
            "0      1.365200e+10  365200341.0    4049          ...   1114.4006    309.0   \n",
            "1      1.066600e+10   66600080.0     906          ...   1234.2003    248.0   \n",
            "2      1.391301e+10  391301120.0    4218          ...   1191.1004    230.0   \n",
            "3      1.374400e+10  374400145.0    4145          ...   1111.4000    231.0   \n",
            "4      1.110300e+10  110300030.0    1936          ...   1266.5001    318.0   \n",
            "...             ...          ...     ...     ...  ...         ...      ...   \n",
            "32575  1.330900e+10  330900220.0    2013     NaN  ...         NaN      NaN   \n",
            "32576  1.247600e+10  247600260.0    2029     NaN  ...         NaN      NaN   \n",
            "32581  1.382900e+10  382900560.0    5971     NaN  ...         NaN      NaN   \n",
            "32582  1.303400e+10  303400010.0    7154     NaN  ...         NaN      NaN   \n",
            "32585  1.100600e+10  100600270.0    2919     NaN  ...         NaN      NaN   \n",
            "\n",
            "      ImpactCode    NLC Parity           Inspector  \\\n",
            "0            0.0  123.0      O                 NaN   \n",
            "1            0.0  104.0      E                 NaN   \n",
            "2            0.0  210.0      E                 NaN   \n",
            "3            0.0   92.0      O                 NaN   \n",
            "4            0.0    5.0      E                 NaN   \n",
            "...          ...    ...    ...                 ...   \n",
            "32575        NaN    NaN    NaN        Ulrich, Ross   \n",
            "32576        NaN    NaN    NaN        Ulrich, Ross   \n",
            "32581        NaN    NaN    NaN  Popoolas, Adebanjo   \n",
            "32582        NaN    NaN    NaN          Wood, Paul   \n",
            "32585        NaN    NaN    NaN        Ulrich, Ross   \n",
            "\n",
            "                                                  Images            FirstDate  \\\n",
            "0                                                    NaN  1987-08-07 00:00:00   \n",
            "1                                                    NaN  1988-06-28 00:00:00   \n",
            "2                                                    NaN  1990-08-28 00:00:00   \n",
            "3                                                    NaN  1990-06-12 00:00:00   \n",
            "4                                                    NaN  2006-12-21 00:00:00   \n",
            "...                                                  ...                  ...   \n",
            "32575                                                NaN                  NaN   \n",
            "32576                                                NaN                  NaN   \n",
            "32581  https://www.stlcitypermits.com/violationimages...                  NaN   \n",
            "32582                                                NaN                  NaN   \n",
            "32585  https://www.stlcitypermits.com/violationimages...                  NaN   \n",
            "\n",
            "                  LastDate UpDateGeo  \n",
            "0      2019-01-04 00:00:00       NaN  \n",
            "1      2019-01-04 00:00:00       NaN  \n",
            "2      2019-01-04 00:00:00       NaN  \n",
            "3      2019-01-04 00:00:00       NaN  \n",
            "4      2019-01-04 00:00:00       NaN  \n",
            "...                    ...       ...  \n",
            "32575                  NaN       NaN  \n",
            "32576                  NaN       NaN  \n",
            "32581                  NaN       NaN  \n",
            "32582                  NaN       NaN  \n",
            "32585                  NaN       NaN  \n",
            "\n",
            "[30232 rows x 40 columns]>\n"
          ]
        },
        {
          "output_type": "stream",
          "name": "stderr",
          "text": [
            "<ipython-input-11-31fbbc831c65>:1: FutureWarning: In a future version, object-dtype columns with all-bool values will not be included in reductions with bool_only=True. Explicitly cast to bool dtype instead.\n",
            "  print(condemnations.head)\n"
          ]
        }
      ],
      "source": [
        "print(condemnations.head)"
      ]
    },
    {
      "cell_type": "code",
      "execution_count": 7,
      "metadata": {
        "nbgrader": {
          "grade": true,
          "grade_id": "q1-tests",
          "locked": true,
          "points": 6,
          "schema_version": 1,
          "solution": false
        },
        "id": "UeDjvHwVB5Fe"
      },
      "outputs": [],
      "source": [
        "assert(condemnations.shape == (30232, 40))\n",
        "assert(len(condemnations[condemnations['InspectDate'] < '1986'])==0)\n",
        "assert(len(condemnations[condemnations['InspectDate'] >= '2015'])==0)"
      ]
    },
    {
      "cell_type": "markdown",
      "metadata": {
        "nbgrader": {
          "grade": false,
          "grade_id": "q2-intro",
          "locked": true,
          "schema_version": 1,
          "solution": false
        },
        "id": "PxduY-cjB5Ff"
      },
      "source": [
        "## STEP 2: Pivot and Summarize\n",
        "\n",
        "In this step we want to pivot our data so that we have one row per year, a column for each value that appears in the `Status` column, and a count of how many condemnations occurred of each type in each year.  Put your summary pivot table into a variable called `by_year`.\n",
        "\n",
        "**Some helpful notes:**\n",
        "* For some reason, Pandas is just kind of stubborn about count being the aggregate function.  You may need to tell it to `np.ma.count` specifically.  I've imported Numpy as np for you."
      ]
    },
    {
      "cell_type": "code",
      "execution_count": 13,
      "metadata": {
        "colab": {
          "base_uri": "https://localhost:8080/",
          "height": 274
        },
        "id": "yzq9NJBeB5Ff",
        "outputId": "7d18baf8-767a-4b6b-db2d-3e89414171e8"
      },
      "outputs": [
        {
          "output_type": "stream",
          "name": "stderr",
          "text": [
            "<ipython-input-13-8f3c6fec2f8c>:5: DtypeWarning: Columns (2,8,35,36) have mixed types. Specify dtype option on import or set low_memory=False.\n",
            "  condemnations = pd.read_csv('https://hds5210-data.s3.amazonaws.com/condemn.txt')\n"
          ]
        },
        {
          "output_type": "execute_result",
          "data": {
            "text/plain": [
              "Status         B   L   R    W\n",
              "InspectDate                  \n",
              "1986          22  12  19  112\n",
              "1987          91  20   8  361\n",
              "1988         215  16  15  297\n",
              "1989         277  15  11  432\n",
              "1990         119  29   8  322"
            ],
            "text/html": [
              "\n",
              "  <div id=\"df-deb6174e-0e2e-45b5-9731-6498588f0965\" class=\"colab-df-container\">\n",
              "    <div>\n",
              "<style scoped>\n",
              "    .dataframe tbody tr th:only-of-type {\n",
              "        vertical-align: middle;\n",
              "    }\n",
              "\n",
              "    .dataframe tbody tr th {\n",
              "        vertical-align: top;\n",
              "    }\n",
              "\n",
              "    .dataframe thead th {\n",
              "        text-align: right;\n",
              "    }\n",
              "</style>\n",
              "<table border=\"1\" class=\"dataframe\">\n",
              "  <thead>\n",
              "    <tr style=\"text-align: right;\">\n",
              "      <th>Status</th>\n",
              "      <th>B</th>\n",
              "      <th>L</th>\n",
              "      <th>R</th>\n",
              "      <th>W</th>\n",
              "    </tr>\n",
              "    <tr>\n",
              "      <th>InspectDate</th>\n",
              "      <th></th>\n",
              "      <th></th>\n",
              "      <th></th>\n",
              "      <th></th>\n",
              "    </tr>\n",
              "  </thead>\n",
              "  <tbody>\n",
              "    <tr>\n",
              "      <th>1986</th>\n",
              "      <td>22</td>\n",
              "      <td>12</td>\n",
              "      <td>19</td>\n",
              "      <td>112</td>\n",
              "    </tr>\n",
              "    <tr>\n",
              "      <th>1987</th>\n",
              "      <td>91</td>\n",
              "      <td>20</td>\n",
              "      <td>8</td>\n",
              "      <td>361</td>\n",
              "    </tr>\n",
              "    <tr>\n",
              "      <th>1988</th>\n",
              "      <td>215</td>\n",
              "      <td>16</td>\n",
              "      <td>15</td>\n",
              "      <td>297</td>\n",
              "    </tr>\n",
              "    <tr>\n",
              "      <th>1989</th>\n",
              "      <td>277</td>\n",
              "      <td>15</td>\n",
              "      <td>11</td>\n",
              "      <td>432</td>\n",
              "    </tr>\n",
              "    <tr>\n",
              "      <th>1990</th>\n",
              "      <td>119</td>\n",
              "      <td>29</td>\n",
              "      <td>8</td>\n",
              "      <td>322</td>\n",
              "    </tr>\n",
              "  </tbody>\n",
              "</table>\n",
              "</div>\n",
              "    <div class=\"colab-df-buttons\">\n",
              "\n",
              "  <div class=\"colab-df-container\">\n",
              "    <button class=\"colab-df-convert\" onclick=\"convertToInteractive('df-deb6174e-0e2e-45b5-9731-6498588f0965')\"\n",
              "            title=\"Convert this dataframe to an interactive table.\"\n",
              "            style=\"display:none;\">\n",
              "\n",
              "  <svg xmlns=\"http://www.w3.org/2000/svg\" height=\"24px\" viewBox=\"0 -960 960 960\">\n",
              "    <path d=\"M120-120v-720h720v720H120Zm60-500h600v-160H180v160Zm220 220h160v-160H400v160Zm0 220h160v-160H400v160ZM180-400h160v-160H180v160Zm440 0h160v-160H620v160ZM180-180h160v-160H180v160Zm440 0h160v-160H620v160Z\"/>\n",
              "  </svg>\n",
              "    </button>\n",
              "\n",
              "  <style>\n",
              "    .colab-df-container {\n",
              "      display:flex;\n",
              "      gap: 12px;\n",
              "    }\n",
              "\n",
              "    .colab-df-convert {\n",
              "      background-color: #E8F0FE;\n",
              "      border: none;\n",
              "      border-radius: 50%;\n",
              "      cursor: pointer;\n",
              "      display: none;\n",
              "      fill: #1967D2;\n",
              "      height: 32px;\n",
              "      padding: 0 0 0 0;\n",
              "      width: 32px;\n",
              "    }\n",
              "\n",
              "    .colab-df-convert:hover {\n",
              "      background-color: #E2EBFA;\n",
              "      box-shadow: 0px 1px 2px rgba(60, 64, 67, 0.3), 0px 1px 3px 1px rgba(60, 64, 67, 0.15);\n",
              "      fill: #174EA6;\n",
              "    }\n",
              "\n",
              "    .colab-df-buttons div {\n",
              "      margin-bottom: 4px;\n",
              "    }\n",
              "\n",
              "    [theme=dark] .colab-df-convert {\n",
              "      background-color: #3B4455;\n",
              "      fill: #D2E3FC;\n",
              "    }\n",
              "\n",
              "    [theme=dark] .colab-df-convert:hover {\n",
              "      background-color: #434B5C;\n",
              "      box-shadow: 0px 1px 3px 1px rgba(0, 0, 0, 0.15);\n",
              "      filter: drop-shadow(0px 1px 2px rgba(0, 0, 0, 0.3));\n",
              "      fill: #FFFFFF;\n",
              "    }\n",
              "  </style>\n",
              "\n",
              "    <script>\n",
              "      const buttonEl =\n",
              "        document.querySelector('#df-deb6174e-0e2e-45b5-9731-6498588f0965 button.colab-df-convert');\n",
              "      buttonEl.style.display =\n",
              "        google.colab.kernel.accessAllowed ? 'block' : 'none';\n",
              "\n",
              "      async function convertToInteractive(key) {\n",
              "        const element = document.querySelector('#df-deb6174e-0e2e-45b5-9731-6498588f0965');\n",
              "        const dataTable =\n",
              "          await google.colab.kernel.invokeFunction('convertToInteractive',\n",
              "                                                    [key], {});\n",
              "        if (!dataTable) return;\n",
              "\n",
              "        const docLinkHtml = 'Like what you see? Visit the ' +\n",
              "          '<a target=\"_blank\" href=https://colab.research.google.com/notebooks/data_table.ipynb>data table notebook</a>'\n",
              "          + ' to learn more about interactive tables.';\n",
              "        element.innerHTML = '';\n",
              "        dataTable['output_type'] = 'display_data';\n",
              "        await google.colab.output.renderOutput(dataTable, element);\n",
              "        const docLink = document.createElement('div');\n",
              "        docLink.innerHTML = docLinkHtml;\n",
              "        element.appendChild(docLink);\n",
              "      }\n",
              "    </script>\n",
              "  </div>\n",
              "\n",
              "\n",
              "<div id=\"df-86b8c760-cbb3-4751-a757-2b7fdca45cc1\">\n",
              "  <button class=\"colab-df-quickchart\" onclick=\"quickchart('df-86b8c760-cbb3-4751-a757-2b7fdca45cc1')\"\n",
              "            title=\"Suggest charts\"\n",
              "            style=\"display:none;\">\n",
              "\n",
              "<svg xmlns=\"http://www.w3.org/2000/svg\" height=\"24px\"viewBox=\"0 0 24 24\"\n",
              "     width=\"24px\">\n",
              "    <g>\n",
              "        <path d=\"M19 3H5c-1.1 0-2 .9-2 2v14c0 1.1.9 2 2 2h14c1.1 0 2-.9 2-2V5c0-1.1-.9-2-2-2zM9 17H7v-7h2v7zm4 0h-2V7h2v10zm4 0h-2v-4h2v4z\"/>\n",
              "    </g>\n",
              "</svg>\n",
              "  </button>\n",
              "\n",
              "<style>\n",
              "  .colab-df-quickchart {\n",
              "      --bg-color: #E8F0FE;\n",
              "      --fill-color: #1967D2;\n",
              "      --hover-bg-color: #E2EBFA;\n",
              "      --hover-fill-color: #174EA6;\n",
              "      --disabled-fill-color: #AAA;\n",
              "      --disabled-bg-color: #DDD;\n",
              "  }\n",
              "\n",
              "  [theme=dark] .colab-df-quickchart {\n",
              "      --bg-color: #3B4455;\n",
              "      --fill-color: #D2E3FC;\n",
              "      --hover-bg-color: #434B5C;\n",
              "      --hover-fill-color: #FFFFFF;\n",
              "      --disabled-bg-color: #3B4455;\n",
              "      --disabled-fill-color: #666;\n",
              "  }\n",
              "\n",
              "  .colab-df-quickchart {\n",
              "    background-color: var(--bg-color);\n",
              "    border: none;\n",
              "    border-radius: 50%;\n",
              "    cursor: pointer;\n",
              "    display: none;\n",
              "    fill: var(--fill-color);\n",
              "    height: 32px;\n",
              "    padding: 0;\n",
              "    width: 32px;\n",
              "  }\n",
              "\n",
              "  .colab-df-quickchart:hover {\n",
              "    background-color: var(--hover-bg-color);\n",
              "    box-shadow: 0 1px 2px rgba(60, 64, 67, 0.3), 0 1px 3px 1px rgba(60, 64, 67, 0.15);\n",
              "    fill: var(--button-hover-fill-color);\n",
              "  }\n",
              "\n",
              "  .colab-df-quickchart-complete:disabled,\n",
              "  .colab-df-quickchart-complete:disabled:hover {\n",
              "    background-color: var(--disabled-bg-color);\n",
              "    fill: var(--disabled-fill-color);\n",
              "    box-shadow: none;\n",
              "  }\n",
              "\n",
              "  .colab-df-spinner {\n",
              "    border: 2px solid var(--fill-color);\n",
              "    border-color: transparent;\n",
              "    border-bottom-color: var(--fill-color);\n",
              "    animation:\n",
              "      spin 1s steps(1) infinite;\n",
              "  }\n",
              "\n",
              "  @keyframes spin {\n",
              "    0% {\n",
              "      border-color: transparent;\n",
              "      border-bottom-color: var(--fill-color);\n",
              "      border-left-color: var(--fill-color);\n",
              "    }\n",
              "    20% {\n",
              "      border-color: transparent;\n",
              "      border-left-color: var(--fill-color);\n",
              "      border-top-color: var(--fill-color);\n",
              "    }\n",
              "    30% {\n",
              "      border-color: transparent;\n",
              "      border-left-color: var(--fill-color);\n",
              "      border-top-color: var(--fill-color);\n",
              "      border-right-color: var(--fill-color);\n",
              "    }\n",
              "    40% {\n",
              "      border-color: transparent;\n",
              "      border-right-color: var(--fill-color);\n",
              "      border-top-color: var(--fill-color);\n",
              "    }\n",
              "    60% {\n",
              "      border-color: transparent;\n",
              "      border-right-color: var(--fill-color);\n",
              "    }\n",
              "    80% {\n",
              "      border-color: transparent;\n",
              "      border-right-color: var(--fill-color);\n",
              "      border-bottom-color: var(--fill-color);\n",
              "    }\n",
              "    90% {\n",
              "      border-color: transparent;\n",
              "      border-bottom-color: var(--fill-color);\n",
              "    }\n",
              "  }\n",
              "</style>\n",
              "\n",
              "  <script>\n",
              "    async function quickchart(key) {\n",
              "      const quickchartButtonEl =\n",
              "        document.querySelector('#' + key + ' button');\n",
              "      quickchartButtonEl.disabled = true;  // To prevent multiple clicks.\n",
              "      quickchartButtonEl.classList.add('colab-df-spinner');\n",
              "      try {\n",
              "        const charts = await google.colab.kernel.invokeFunction(\n",
              "            'suggestCharts', [key], {});\n",
              "      } catch (error) {\n",
              "        console.error('Error during call to suggestCharts:', error);\n",
              "      }\n",
              "      quickchartButtonEl.classList.remove('colab-df-spinner');\n",
              "      quickchartButtonEl.classList.add('colab-df-quickchart-complete');\n",
              "    }\n",
              "    (() => {\n",
              "      let quickchartButtonEl =\n",
              "        document.querySelector('#df-86b8c760-cbb3-4751-a757-2b7fdca45cc1 button');\n",
              "      quickchartButtonEl.style.display =\n",
              "        google.colab.kernel.accessAllowed ? 'block' : 'none';\n",
              "    })();\n",
              "  </script>\n",
              "</div>\n",
              "    </div>\n",
              "  </div>\n"
            ]
          },
          "metadata": {},
          "execution_count": 13
        }
      ],
      "source": [
        "import pandas as pd\n",
        "import numpy as np\n",
        "\n",
        "# Assuming you have a CSV file named 'https://hds5210-data.s3.amazonaws.com/condemn.txt.csv'\n",
        "condemnations = pd.read_csv('https://hds5210-data.s3.amazonaws.com/condemn.txt')\n",
        "\n",
        "# Convert 'InspectDate' to datetime format\n",
        "condemnations['InspectDate'] = pd.to_datetime(condemnations['InspectDate'])\n",
        "\n",
        "# Filter the DataFrame for the desired date range\n",
        "condemnations = condemnations[(condemnations['InspectDate'] >= '1986') & (condemnations['InspectDate'] < '2015')]\n",
        "\n",
        "# Add a 'Count' column with value 1 for each row\n",
        "condemnations['Count'] = 1\n",
        "\n",
        "# Create a pivot table\n",
        "by_year = condemnations.pivot_table(values='Count', index=condemnations['InspectDate'].dt.year, columns='Status', aggfunc=np.sum, fill_value=0)\n",
        "\n",
        "# Reorder columns\n",
        "by_year = by_year[['B', 'L', 'R', 'W']]\n",
        "\n",
        "# Display the first few rows of the resulting DataFrame\n",
        "by_year.head()\n"
      ]
    },
    {
      "cell_type": "code",
      "execution_count": 15,
      "metadata": {
        "nbgrader": {
          "grade": true,
          "grade_id": "q2-tests",
          "locked": true,
          "points": 6,
          "schema_version": 1,
          "solution": false
        },
        "id": "fl2DHTUPB5Ff"
      },
      "outputs": [],
      "source": [
        "assert(by_year.shape == (29, 4))\n",
        "assert(list(by_year.columns) == ['B', 'L', 'R', 'W'])\n",
        "assert(list(by_year.sum()) == [10572, 4966, 98, 9670])"
      ]
    },
    {
      "cell_type": "markdown",
      "metadata": {
        "nbgrader": {
          "grade": false,
          "grade_id": "q3-intro",
          "locked": true,
          "schema_version": 1,
          "solution": false
        },
        "id": "kB_R2eqKB5Ff"
      },
      "source": [
        "## STEP 3: Plot and see what you see\n",
        "\n",
        "Use Pandas built-in plotting capabilities to visualize this information in way that you think makes sense.  It might be that plotting a simple multi-series line chart would give you some insights.  Show your plot in the cell below, then use the text cell below that to write a few sentences about what you see.\n"
      ]
    },
    {
      "cell_type": "code",
      "execution_count": null,
      "metadata": {
        "nbgrader": {
          "grade": true,
          "grade_id": "q3-manual",
          "locked": false,
          "points": 5,
          "schema_version": 1,
          "solution": true
        },
        "id": "8MWiNx93B5Ff",
        "outputId": "f7e0e104-d7f6-4cf9-fa77-5a4de4ba92af"
      },
      "outputs": [
        {
          "data": {
            "text/plain": [
              "<matplotlib.axes._subplots.AxesSubplot at 0x7f847a35fac8>"
            ]
          },
          "execution_count": 19,
          "metadata": {},
          "output_type": "execute_result"
        },
        {
          "data": {
            "image/png": "[encoded data removed]",
            "text/plain": [
              "<Figure size 432x288 with 1 Axes>"
            ]
          },
          "metadata": {
            "needs_background": "light"
          },
          "output_type": "display_data"
        }
      ],
      "source": [
        "%matplotlib inline\n",
        "by_year.plot()"
      ]
    },
    {
      "cell_type": "markdown",
      "metadata": {
        "id": "i5YZ7za4B5Ff"
      },
      "source": [
        "---"
      ]
    },
    {
      "cell_type": "code",
      "execution_count": 30,
      "metadata": {
        "colab": {
          "base_uri": "https://localhost:8080/",
          "height": 472
        },
        "id": "wn12jgXaB5Fg",
        "outputId": "90f4eed0-45f7-4732-b63c-3073406abf3a"
      },
      "outputs": [
        {
          "output_type": "display_data",
          "data": {
            "text/plain": [
              "<Figure size 640x480 with 1 Axes>"
            ],
            "image/png": "[encoded data removed]"
          },
          "metadata": {}
        }
      ],
      "source": [
        "import matplotlib.pyplot as plt\n",
        "%matplotlib inline\n",
        "\n",
        "by_year.plot()\n",
        "\n",
        "plt.title('Condemnations Over the Years')  # Set the title of the plot\n",
        "plt.xlabel('Year')  # Label for the x-axis\n",
        "plt.ylabel('Count')  # Label for the y-axis\n",
        "\n",
        "plt.legend(title='Status')\n",
        "\n",
        "plt.show()\n"
      ]
    },
    {
      "cell_type": "code",
      "execution_count": 24,
      "metadata": {
        "id": "M42pUirfB5Fg"
      },
      "outputs": [],
      "source": [
        "#The chart I have created shows how the number of condemnations  has changed over the years From 1986 to 2014. There are different lines on the chart, each representing a different Type of problem ('B', 'L', 'R', 'W').\n",
        "\n",
        "#If a line goes up, it means there were more problems of that Type In that year\n",
        "#If a line goes down, it means there were fewer problems of that Type In that year."
      ]
    },
    {
      "cell_type": "markdown",
      "metadata": {
        "id": "WFoY3PhJB5Fg"
      },
      "source": [
        "# PART 2 - Video Conference Usage\n",
        "\n",
        "In this next part of the assignment, we'll be looking at how video conference usage changed during the beginning of COVID-19.  This real data.  Please don't judge anyone based on the information here.  ;)  The data is in the `https://hds5210-data.s3.awsamazon.com/meetings.csv` file.\n",
        "\n",
        "For the assignment, I want you to compare (by person) the number of meetings hosted by each user for the last two weeks of February and the last two weeks of March.  This might be a little complicated to think through HOW to do that, so the steps below are one approach.\n",
        "\n",
        "1. Create a new column called startDate that contains just the day part of the startTime column in the data.  You can do that using datetime functions if you want, but you'll notice that the date in this file is a string formatted YYYY-MM-DD-HH:mm:ss, so it's probably easier just to pull out the first 10 characters of the string instead.  `meetings['startTime'].str[0:10]`\n",
        "2. Create another new column.  This one should contain a label like \"BEFORE\" for the week 2/17 - 2/28 and \"DURING\" for the week of 3/16 - 3/27.  A hand tip on this is that you can set values for some rows in a data frame using `meetings.loc[row_filter,'Column Name'] = 'Value'` if you've created a `row_filter` as we discussed in prior weeks.\n",
        "3. From here, using `pivot_table()` is one good way to summarize the information.\n",
        "\n",
        "**FINAL RESULT**\n",
        "\n",
        "For a final result, I'd like you to produce a data frame named **summary** that contains:\n",
        "* One ROW for each userName.  The userName can either be the row index or a column in the data frame.\n",
        "* One COLUMN for the \"BEFORE\" week and one COLUMN for the \"DURING\" week.  Name those columns 'Before' and 'During'.\n",
        "* One more calculated column that shows the percent increase from BEFORE to DURING.  Name that column 'pctChange'.\n"
      ]
    },
    {
      "cell_type": "code",
      "execution_count": 69,
      "metadata": {
        "id": "r0jTYP-iB5Fg"
      },
      "outputs": [],
      "source": [
        "# import pandas as pd\n",
        "\n",
        "# Read the 'meetings.csv' file from the specified URL into a DataFrame\n",
        "meetings = pd.read_csv('https://hds5210-data.s3.amazonaws.com/meetings.csv')\n",
        "\n",
        "# Convert 'startTime' and 'endTime' columns to datetime format\n",
        "meetings['startTime'] = pd.to_datetime(meetings['startTime'])\n",
        "meetings['endTime'] = pd.to_datetime(meetings['endTime'])\n",
        "\n",
        "# Extract the date part from 'startTime' and create a new 'startDate' column\n",
        "meetings['startDate'] = meetings['startTime'].dt.strftime('%Y-%m-%d')\n",
        "\n",
        "# Categorize meetings into two weeks: 'BEFORE' and 'DURING'\n",
        "meetings.loc[(meetings['startDate'] >= '2020-02-17') & (meetings['startDate'] <= '2020-02-28'), 'Week'] = 'BEFORE'\n",
        "meetings.loc[(meetings['startDate'] >= '2020-03-16') & (meetings['startDate'] <= '2020-03-27'), 'Week'] = 'DURING'\n"
      ]
    },
    {
      "cell_type": "code",
      "execution_count": 70,
      "metadata": {
        "colab": {
          "base_uri": "https://localhost:8080/"
        },
        "id": "FHZx1GGLB5Fg",
        "outputId": "f35d4b93-4242-49a2-ab4e-982a2794d72a"
      },
      "outputs": [
        {
          "output_type": "stream",
          "name": "stdout",
          "text": [
            "                                Before  During  pctChange\n",
            "userName                                                 \n",
            "Drew.Marco                          12      19   0.583333\n",
            "amit.bhagat                         17      30   0.764706\n",
            "andrea.bryant.amitechsolutions       5       3  -0.400000\n",
            "angie.warren                         5       9   0.800000\n",
            "chris.rogers.amitechsolutions        4       3  -0.250000\n",
            "eric.keeney                         15      27   0.800000\n",
            "eric.rodman                          4      12   2.000000\n",
            "jeff.hatfield.amitechsolutions      13      26   1.000000\n",
            "jennifer.patton.amitechs             5       7   0.400000\n",
            "jessica.sikora                       3       7   1.333333\n",
            "matt.allsup                          5       0  -1.000000\n",
            "matt.brown.amitechsolutions          1       2   1.000000\n",
            "melissa.menne                       10       9  -0.100000\n",
            "michael.demos                        5      11   1.200000\n",
            "paul.boal                           15      35   1.333333\n",
            "paul.smith.amitechsolutions         23      10  -0.565217\n",
            "pete.cornwell                        1       9   8.000000\n",
            "raghavender.tuniki                   6       2  -0.666667\n",
            "sandip.shaw                          9       2  -0.777778\n",
            "santhosh.kanala                      2       6   2.000000\n",
            "shawn.reilly.amitechsolutions        7      10   0.428571\n",
            "tejus.maduskar                      12      39   2.250000\n"
          ]
        }
      ],
      "source": [
        "summary = meetings.pivot_table(index='userName', columns='Week', aggfunc='size', fill_value=0)\n",
        "\n",
        "summary['pctChange'] = ((summary['DURING'] - summary['BEFORE']) / summary['BEFORE'])\n",
        "\n",
        "summary.columns = ['Before', 'During', 'pctChange']\n",
        "\n",
        "print(summary)"
      ]
    },
    {
      "cell_type": "markdown",
      "metadata": {
        "id": "z6QDjBW-B5Fg"
      },
      "source": [
        "---"
      ]
    },
    {
      "cell_type": "code",
      "execution_count": 71,
      "metadata": {
        "id": "8KDem_alB5Fg"
      },
      "outputs": [],
      "source": [
        "assert(len(summary) == 22)"
      ]
    },
    {
      "cell_type": "code",
      "execution_count": 72,
      "metadata": {
        "id": "Dsr4VeT8B5Fg"
      },
      "outputs": [],
      "source": [
        "assert(summary['pctChange'].mean().round(2) == 0.92)"
      ]
    },
    {
      "cell_type": "code",
      "execution_count": null,
      "metadata": {
        "id": "aG8TkhrSB5Fh"
      },
      "outputs": [],
      "source": []
    },
    {
      "cell_type": "markdown",
      "metadata": {
        "id": "5rLY6BIYB5Fh"
      },
      "source": [
        "\n",
        "\n",
        "---\n",
        "\n",
        "\n",
        "\n",
        "## Submitting Your Work\n",
        "\n",
        "Submit as usual\n"
      ]
    }
  ],
  "metadata": {
    "celltoolbar": "Create Assignment",
    "kernelspec": {
      "display_name": "Python 3",
      "language": "python",
      "name": "python3"
    },
    "language_info": {
      "codemirror_mode": {
        "name": "ipython",
        "version": 3
      },
      "file_extension": ".py",
      "mimetype": "text/x-python",
      "name": "python",
      "nbconvert_exporter": "python",
      "pygments_lexer": "ipython3",
      "version": "3.6.7"
    },
    "colab": {
      "provenance": [],
      "include_colab_link": true
    }
  },
  "nbformat": 4,
  "nbformat_minor": 0
}