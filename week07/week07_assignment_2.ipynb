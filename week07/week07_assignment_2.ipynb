{
  "cells": [
    {
      "cell_type": "markdown",
      "metadata": {
        "id": "Ox0OznUdsi0R"
      },
      "source": [
        "# Week 7 Assignment\n",
        "\n",
        "We've been working with different types of data structures in Python (dictionary, list, etc), how those are represented in JSON documents, and how to write code to access specific data elements. In this week's assignment, you will need to create your own JSON document to store information about yourself and the grades you've received from week 1 to week 4 and the week 6 quiz.  That is, everything you should have received a grade for.  Then you'll need to show me you know how to navigate the JSON in that file.\n",
        "\n",
        "Different from what we've done in the past, you do not have to write any functions or include any docstrings.  Just create some JSON and write some code.\n",
        "\n",
        "---"
      ]
    },
    {
      "cell_type": "markdown",
      "metadata": {
        "id": "iJ-Mb3ONsi0V"
      },
      "source": [
        "## 7.1 Create a JSON string\n",
        "\n",
        "Create a JSON string that contains your name, email, year you were born, all of the grades you've received back so far, and a comment about what you thought was most challenging on each of those assignments.  This can be any structure you choose, but make sure it uses a dictionary and a list, and has at least two levels of hierarchy.  That is, it can't just be one big long list."
      ]
    },
    {
      "cell_type": "markdown",
      "metadata": {
        "id": "xKGEqBJRsi0V"
      },
      "source": [
        "First, explain how your data structure is going to look..."
      ]
    },
    {
      "cell_type": "markdown",
      "metadata": {
        "id": "PLUAyzijsi0W"
      },
      "source": [
        "* Put your explanation here in text..."
      ]
    },
    {
      "cell_type": "markdown",
      "metadata": {
        "id": "geFSmfCgsi0W"
      },
      "source": [
        "Then put the actual JSON you've created inside the multiline string below..."
      ]
    },
    {
      "cell_type": "code",
      "execution_count": 25,
      "metadata": {
        "id": "VNw4iqM1si0W",
        "outputId": "33d6da74-18c2-4ac2-efa4-2f3d4bd95e80",
        "colab": {
          "base_uri": "https://localhost:8080/"
        }
      },
      "outputs": [
        {
          "output_type": "stream",
          "name": "stdout",
          "text": [
            "Name: Deepak Mupparapu\n",
            "Email: mupparapudeepak02@gmail.com\n",
            "Date of Birth: 1999\n",
            "Grades:\n",
            "  Assignment: week 01\n",
            "  Grade: 10/10\n",
            "  Challenge: Adding the collaborator\n",
            "\n",
            "  Assignment: week 02\n",
            "  Grade: 10/10\n",
            "  Challenge: Starting programming exercises\n",
            "\n",
            "  Assignment: week 03\n",
            "  Grade: 10/10\n",
            "  Challenge: Starting with def statements\n",
            "\n",
            "  Assignment: week 04\n",
            "  Grade: 10/10\n",
            "  Challenge: Learning assertions\n",
            "\n",
            "  Assignment: week 06 quiz\n",
            "  Grade: 15/20\n",
            "  Challenge: Hands-on coding in limited time\n",
            "\n",
            "Total: 91.67%\n"
          ]
        }
      ],
      "source": [
        "#The data structure will have two levels of hierarchy. At the top level, we have a dictionary with the key \"student\" containing the student's information. Within the \"student\" dictionary, there will be several key-value pairs:\n",
        "\n",
        "#\"name\": The student's name.\n",
        "#\"email\": The student's email address.\n",
        "#\"year_of_birth\": The year the student was born.\n",
        "#\"grades\": A list of dictionaries where each dictionary represents an assignment. Each assignment has the following attributes:\n",
        "#\"assignment_name\": The name or description of the assignment.\n",
        "#\"grade\": The grade received for that assignment.\n",
        "#\"challenge\": A comment about what the most challenging thing done on the assignment.\n",
        "\n",
        "import json\n",
        "\n",
        "hds5210 = '''\n",
        "{\n",
        "    \"me\": {\n",
        "        \"name\": \"Deepak Mupparapu\",\n",
        "        \"email\": \"mupparapudeepak02@gmail.com\",\n",
        "        \"Date of Birth\": \"1999\",\n",
        "        \"grades\": [\n",
        "            {\n",
        "                \"assignment\": \"week 01\",\n",
        "                \"grade\": \"10/10\",\n",
        "                \"challenge\": \"Adding the collaborator\"\n",
        "            },\n",
        "            {\n",
        "                \"assignment\": \"week 02\",\n",
        "                \"grade\": \"10/10\",\n",
        "                \"challenge\": \"Starting programming exercises\"\n",
        "            },\n",
        "            {\n",
        "                \"assignment\": \"week 03\",\n",
        "                \"grade\": \"10/10\",\n",
        "                \"challenge\": \"Starting with def statements\"\n",
        "            },\n",
        "            {\n",
        "                \"assignment\": \"week 04\",\n",
        "                \"grade\": \"10/10\",\n",
        "                \"challenge\": \"Learning assertions\"\n",
        "            },\n",
        "            {\n",
        "                \"assignment\": \"week 06 quiz\",\n",
        "                \"grade\": \"15/20\",\n",
        "                \"challenge\": \"Hands-on coding in limited time\"\n",
        "            }\n",
        "        ],\n",
        "        \"Total\": \"91.67%\"\n",
        "    }\n",
        "}\n",
        "'''\n",
        "\n",
        "# Load the JSON data into a Python dictionary\n",
        "info = json.loads(hds5210)\n",
        "\n",
        "# Accessing and printing the entire data\n",
        "print(\"Name:\", info[\"me\"][\"name\"])  # Output: Deepak Mupparapu\n",
        "print(\"Email:\", info[\"me\"][\"email\"])  # Output: mupparapudeepak02@gmail.com\n",
        "print(\"Date of Birth:\", info[\"me\"][\"Date of Birth\"])  # Output: 1999\n",
        "print(\"Grades:\")\n",
        "for grade_info in info[\"me\"][\"grades\"]:\n",
        "    print(f\"  Assignment: {grade_info['assignment']}\")\n",
        "    print(f\"  Grade: {grade_info['grade']}\")\n",
        "    print(f\"  Challenge: {grade_info['challenge']}\")\n",
        "    print()\n",
        "\n",
        "print(\"Total:\", info[\"me\"][\"Total\"])  # Output: 91.67%\n"
      ]
    },
    {
      "cell_type": "markdown",
      "metadata": {
        "id": "x_LNbOassi0X"
      },
      "source": [
        "## 7.2 Do something with your JSON\n",
        "\n",
        "Now use Python code to do something with the Json above.  Turn it into English text, but make sure that you use at least one loop to access some dict or list content of your JSON.  Below, I've provided some basic code to read in the string above as JSON and return a Python object.  Your job is to work with that data structure and print out the important information like your name, email, and how you did on each assignment."
      ]
    },
    {
      "cell_type": "code",
      "execution_count": 26,
      "metadata": {
        "id": "4ZIOQD4bsi0X",
        "outputId": "39fcdef9-5b35-42e3-9951-d8ab5bfb8aea",
        "colab": {
          "base_uri": "https://localhost:8080/"
        }
      },
      "outputs": [
        {
          "output_type": "stream",
          "name": "stdout",
          "text": [
            "Hello, my name is Deepak Mupparapu. I've received grades for the following assignments:\n",
            "- For the 'week 01' assignment, I received a grade of 10/10. The most challenging part was 'Adding the collaborator'.\n",
            "- For the 'week 02' assignment, I received a grade of 10/10. The most challenging part was 'Starting programming exercises'.\n",
            "- For the 'week 03' assignment, I received a grade of 10/10. The most challenging part was 'Starting with def statements'.\n",
            "- For the 'week 04' assignment, I received a grade of 10/10. The most challenging part was 'Learning assertions'.\n",
            "- For the 'week 06 quiz' assignment, I received a grade of 15/20. The most challenging part was 'Hands-on coding in limited time'.\n",
            "My total grade is 91.67%.\n"
          ]
        }
      ],
      "source": [
        "import json\n",
        "\n",
        "info = json.loads(hds5210)\n",
        "# Put your code to output a paragraph of English text here\n",
        "me = info[\"me\"][\"name\"]\n",
        "grades = info[\"me\"][\"grades\"]\n",
        "\n",
        "print(f\"Hello, my name is {me}. I've received grades for the following assignments:\")\n",
        "for grade_info in grades:\n",
        "    assignment_name = grade_info[\"assignment\"]\n",
        "    grade = grade_info[\"grade\"]\n",
        "    challenge = grade_info[\"challenge\"]\n",
        "    print(f\"- For the '{assignment_name}' assignment, I received a grade of {grade}. The most challenging part was '{challenge}'.\")\n",
        "\n",
        "print(f\"My total grade is {info['me']['Total']}.\")"
      ]
    },
    {
      "cell_type": "markdown",
      "metadata": {
        "id": "Sg_8VPrxsi0Y"
      },
      "source": [
        "## 7.3 Reflect\n",
        "\n",
        "Write a paragraph on any reflections you have. Was this hard? Easy?  What parts were most challenging or easiest? What did you like or dislike about the assignment?  Share whatever important thoughts you have abou this assignment."
      ]
    },
    {
      "cell_type": "markdown",
      "metadata": {
        "id": "CGLeC2Z7si0Y"
      },
      "source": [
        "* It was very interesting to try like this. The first question slightly took more time as i faced the interesting challenge while writing the print f statements. Apart from that it is easy. I like the example below and welcome to have more assignments like this in future.\n"
      ]
    },
    {
      "cell_type": "markdown",
      "metadata": {
        "id": "r1ImVNeAsi0Y"
      },
      "source": [
        "---\n",
        "\n",
        "# Example\n",
        "\n",
        "Below is an example of something similar, but this uses information my and my friend's kids instead of grades."
      ]
    },
    {
      "cell_type": "code",
      "execution_count": 27,
      "metadata": {
        "id": "8uAQFyZjsi0Y",
        "outputId": "7b29fb46-7145-4942-bacb-3fa8202b91bc",
        "colab": {
          "base_uri": "https://localhost:8080/"
        }
      },
      "outputs": [
        {
          "output_type": "stream",
          "name": "stdout",
          "text": [
            "Hi, my name is Paul. I've got 3 kids. Their names are Ellie, Ada, Teddy.\n",
            "My friend, Anny has 1 kids. That's fewer than me. Their names are 1\n"
          ]
        }
      ],
      "source": [
        "hds5210 = \"\"\"\n",
        "{\n",
        "    \"me\": {\n",
        "        \"name\": \"Paul\",\n",
        "        \"kids\": [\"Ellie\", \"Ada\", \"Teddy\"]\n",
        "    },\n",
        "    \"friend\": {\n",
        "        \"name\": \"Anny\",\n",
        "        \"kids\": [\"Abby\"]\n",
        "    }\n",
        "}\n",
        "\"\"\"\n",
        "\n",
        "import json\n",
        "\n",
        "info = json.loads(hds5210)\n",
        "\n",
        "me = info[\"me\"][\"name\"]\n",
        "my_kids_count = len(info[\"me\"][\"kids\"])\n",
        "kids_list = \", \".join(info[\"me\"][\"kids\"])\n",
        "friend = info[\"friend\"][\"name\"]\n",
        "friends_kid_count = len(info[\"friend\"][\"kids\"])\n",
        "friend_kids = \", \".join(info[\"friend\"][\"kids\"])\n",
        "compare = \"more\" if friends_kid_count > my_kids_count else \"fewer\"\n",
        "\n",
        "print(f\"Hi, my name is {me}. I've got {my_kids_count} kids. Their names are {kids_list}.\")\n",
        "print(f\"My friend, {friend} has {friends_kid_count} kids. That's {compare} than me. Their names are {friends_kid_count}\")"
      ]
    }
  ],
  "metadata": {
    "kernelspec": {
      "display_name": "Python 3",
      "language": "python",
      "name": "python3"
    },
    "language_info": {
      "codemirror_mode": {
        "name": "ipython",
        "version": 3
      },
      "file_extension": ".py",
      "mimetype": "text/x-python",
      "name": "python",
      "nbconvert_exporter": "python",
      "pygments_lexer": "ipython3",
      "version": "3.9.16"
    },
    "colab": {
      "provenance": []
    }
  },
  "nbformat": 4,
  "nbformat_minor": 0
}