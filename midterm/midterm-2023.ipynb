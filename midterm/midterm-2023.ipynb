{
  "cells": [
    {
      "cell_type": "markdown",
      "metadata": {
        "id": "4anTYqdUyVy0"
      },
      "source": [
        "# HDS5210-2022 Midterm\n",
        "\n",
        "In the midterm, you're going to use all the programming and data management skills you've developed so far to build a risk calculator that pretends to be integrated with a clinical registry.  You'll compute the PRIEST COVID-19 Clinical Severity Score for a series of patients and, based on their risk of an adverse outcome, query a REST web service to find a hospital to transfer them to. The end result of your work will be a list of instructions on where each patient should be discharged given their risk and various characteristics of the patient.\n",
        "\n",
        "Each step in the midterm will build up to form your complete solution.\n",
        "\n",
        "**Make sure you write good docstrings and doctests along the way!!**\n",
        "\n",
        "**The midterm is due at 11:59 PM CST on Monday, October 23rd.**\n",
        "\n",
        "---"
      ]
    },
    {
      "cell_type": "markdown",
      "metadata": {
        "id": "lFL6gaAsyVy6"
      },
      "source": [
        "## Step 1: Calculate PRIEST Clinical Severity Score\n",
        "\n",
        "This scoring algorithm can be found [here on the MDCalc website](https://www.mdcalc.com/priest-covid-19-clinical-severity-score#evidence).  \n",
        "\n",
        "1. You will need to write a function called **priest()** with the following input parameters.  \n",
        " * Sex (Gender assigned at birth)\n",
        " * Age in years\n",
        " * Respiratory rate in breaths per minute\n",
        " * Oxygen saturation as a percent between 0 and 1\n",
        " * Heart rate in beats per minute\n",
        " * Systolic BP in mmHg\n",
        " * Temperature in degrees C\n",
        " * Alertness as a string description\n",
        " * Inspired Oxygen as as string description\n",
        " * Performance Status as a string description\n",
        "2. The function will need to follow the algorithm provided on the MDCalc website to compute a risk percentage that should be returned as a numeric value between 0 and 1.\n",
        "3. Be sure to use docstring documentation and at least three built-in docstring test cases.\n",
        "4. Assume that the input values that are strings could be any combination of upper or lower case. For example: 'male', 'Male', 'MALE', 'MalE' should all be interpretted by your code as male.\n",
        "5. If any of the inputs are invalid (for example a sex value that is not recognizable as male or female) your code should return None.\n",
        "\n",
        "NOTES:\n",
        "1. In the final step there is a table that translates from **PRIEST Score** to **30-day probability of an outcome** but the last two probabilities are shown as ranges (59-88% and >99%).  Our code needs to output a single number, however. For our code, use the following rule:\n",
        " * If PRIEST score is between 17 and 25, the probability you return should be 0.59\n",
        " * If PRIEST score is greater than or equal to 26, the probability you return should be 0.99\n"
      ]
    },
    {
      "cell_type": "code",
      "execution_count": 138,
      "metadata": {
        "id": "tYnODC5wyVy8"
      },
      "outputs": [],
      "source": [
        "def priest(sex,age,resp_rate,oxg,heart_beat,bp,temp,alert,insp_oxy,perf):\n",
        "\n",
        "\n",
        "    \"\"\" The function takes the following input parameters:\n",
        "            Sex (Gender assigned at birth)\n",
        "            Age in years\n",
        "            Respiratory rate in breaths per minute\n",
        "            Oxygen saturation as a percent between 0 and 1\n",
        "            Heart rate in beats per minute\n",
        "            Systolic BP in mmHg\n",
        "            Temperature in degrees C\n",
        "            Alertness as a string description\n",
        "            Inspired Oxygen as as string description\n",
        "            Performance Status as a string description\n",
        "        It then follows the algorithm provided on the\n",
        "        MDCalc website to compute a risk percentage and return it as a numeric value between 0 and 1.\n",
        "\n",
        "        >>> priest('Male',80,20,80,80,120,37,'alert','air','unrestricted normal activity' )\n",
        "        0.18\n",
        "\n",
        "        >>> priest('male',24,10,99,60,100,37,'alert','air','unrestricted normal activity' )\n",
        "        0.03\n",
        "\n",
        "        >>> priest('female',24,10,99,60,100,36.5,'alert','air','unrestricted normal activity')\n",
        "        0.02\n",
        "\n",
        "        >>> priest('male',70,10,99,60,100,38,'confused or not alert','air','unrestricted normal activity')\n",
        "        0.29\n",
        "\n",
        "    \"\"\"\n",
        "    sex=sex.lower()\n",
        "    alert=alert.lower()\n",
        "    perf=perf.lower()\n",
        "    insp_oxy=insp_oxy.lower()\n",
        "    score=0\n",
        "\n",
        "    if sex not in ['male','female'] \\\n",
        "        or alert not in ['alert','confused or not alert'] \\\n",
        "        or insp_oxy not in ['air','supplemental oxygen']\\\n",
        "        or perf not in  ['unrestricted normal activity','limited strenous activity','limited activity, can self-care',\\\n",
        "        'limited strenuous activity, can do light activity','bed/chair bound, no self-care','limited self-care']:\n",
        "            return None\n",
        "\n",
        "    else:\n",
        "        score=0\n",
        "\n",
        "        if sex=='male':\n",
        "            score+=1\n",
        "        if sex =='female':\n",
        "            score+=0\n",
        "        if age>=16 and age<=49:\n",
        "            score+=0\n",
        "        if age>=50 and age<=65:\n",
        "            score+=2\n",
        "        if age>=66 and age<=80:\n",
        "            score+=3\n",
        "        if age>80:\n",
        "            score+=4\n",
        "        if resp_rate<9:\n",
        "            score+=3\n",
        "        if resp_rate>=9 and resp_rate<=11:\n",
        "            score+=1\n",
        "        if resp_rate>=12 and resp_rate<=20:\n",
        "            score+=0\n",
        "        if resp_rate>=21 and resp_rate<=24:\n",
        "            score+=2\n",
        "        if resp_rate>24:\n",
        "            score+=3\n",
        "\n",
        "        if oxg>95:\n",
        "            score+=0\n",
        "        if oxg>=94 and oxg<=95:\n",
        "            score+=1\n",
        "        if oxg>=92 and oxg<=93:\n",
        "            score+=2\n",
        "        if oxg<92:\n",
        "            score+=3\n",
        "        if heart_beat<41:\n",
        "            score+=3\n",
        "        if heart_beat>=41 and heart_beat<=50:\n",
        "            score +=1\n",
        "\n",
        "        if heart_beat>=51 and heart_beat<=90:\n",
        "            score +=0\n",
        "        if heart_beat>=91 and heart_beat<=110:\n",
        "            score +=1\n",
        "        if heart_beat>=111 and heart_beat<=130:\n",
        "            score +=2\n",
        "        if heart_beat>130:\n",
        "            score +=3\n",
        "        if bp<91:\n",
        "            score+=3\n",
        "        if bp>=91 and bp<=100:\n",
        "            score+=2\n",
        "        if bp>=101 and bp<=110:\n",
        "            score+1\n",
        "        if bp>=111 and bp<=219:\n",
        "            score+=0\n",
        "        if bp>219:\n",
        "            score+3\n",
        "\n",
        "        if temp<35.1:\n",
        "            score+=3\n",
        "        if temp>=35.1 and temp<=36.0:\n",
        "            score+=1\n",
        "        if temp>=36.1 and temp<=3.0:\n",
        "            score+=0\n",
        "\n",
        "        if temp>=38.1 and temp<=39.0:\n",
        "            score+=1\n",
        "        if temp>39.0:\n",
        "            score+=2\n",
        "        if alert=='alert':\n",
        "            score+=0\n",
        "\n",
        "\n",
        "        if alert=='confused or not alert':\n",
        "            score+=3\n",
        "        if insp_oxy=='air':\n",
        "            score+=0\n",
        "        if insp_oxy=='supplemental oxygen':\n",
        "            score+2\n",
        "        if perf=='unrestricted normal activity':\n",
        "            score+=0\n",
        "        if perf=='limited strenuous activity, can do light activity':\n",
        "            score+=1\n",
        "        if perf=='limited activity, can self-care':\n",
        "            score+=2\n",
        "        if perf=='limited self-care':\n",
        "            score+=3\n",
        "        if perf=='bed/chair bound, no self-care':\n",
        "            score+=4\n",
        "\n",
        "\n",
        "    #Calculate the probabilities:\n",
        "    # Example Priest Score\n",
        "\n",
        "    if score == 0 or score == 1:\n",
        "        probability = 0.01\n",
        "    elif score in [2, 3]:\n",
        "        probability = 0.02\n",
        "    elif score == 4:\n",
        "        probability = 0.03\n",
        "    elif score == 5:\n",
        "        probability = 0.09\n",
        "    elif score == 6:\n",
        "        probability = 0.15\n",
        "    elif score == 7:\n",
        "        probability = 0.18\n",
        "    elif score == 8:\n",
        "        probability = 0.22\n",
        "    elif score == 9:\n",
        "        probability = 0.26\n",
        "    elif score == 10:\n",
        "        probability = 0.29\n",
        "    elif score == 11:\n",
        "        probability = 0.34\n",
        "    elif score == 12:\n",
        "        probability = 0.38\n",
        "    elif score == 13:\n",
        "        probability = 0.46\n",
        "    elif score == 14:\n",
        "        probability = 0.47\n",
        "    elif score == 15:\n",
        "        probability = 0.49\n",
        "    elif score == 16:\n",
        "        probability = 0.55\n",
        "    elif score >= 17 and score <= 25:\n",
        "        probability = 0.59  #\n",
        "    else:\n",
        "        probability = 0.99  # Assuming >99% is approximately 99%\n",
        "\n",
        "    return probability"
      ]
    },
    {
      "cell_type": "code",
      "execution_count": 139,
      "metadata": {
        "id": "caUooCbvyVy-",
        "outputId": "dfe17410-32ac-4ab1-9a8f-71c90bfdd68e",
        "colab": {
          "base_uri": "https://localhost:8080/"
        }
      },
      "outputs": [
        {
          "output_type": "stream",
          "name": "stdout",
          "text": [
            "Finding tests in NoName\n",
            "Trying:\n",
            "    priest('Male',80,20,80,80,120,37,'alert','air','unrestricted normal activity' )\n",
            "Expecting:\n",
            "    0.18\n",
            "ok\n",
            "Trying:\n",
            "    priest('male',24,10,99,60,100,37,'alert','air','unrestricted normal activity' )\n",
            "Expecting:\n",
            "    0.03\n",
            "ok\n",
            "Trying:\n",
            "    priest('female',24,10,99,60,100,36.5,'alert','air','unrestricted normal activity')\n",
            "Expecting:\n",
            "    0.02\n",
            "ok\n",
            "Trying:\n",
            "    priest('male',70,10,99,60,100,38,'confused or not alert','air','unrestricted normal activity')\n",
            "Expecting:\n",
            "    0.29\n",
            "ok\n"
          ]
        }
      ],
      "source": [
        "import doctest\n",
        "doctest.run_docstring_examples(priest, globals(),verbose=True)"
      ]
    },
    {
      "cell_type": "markdown",
      "metadata": {
        "id": "e44vWq0uyVy_"
      },
      "source": [
        "## Part 2: Find a hospital\n",
        "\n",
        "The next thing we have to do is figure out where to send this particular patient.  The guidelines on where to send a patient are based on their age (pediatric, adult, geriatric), sex, and risk percentage.  Luckily, you don't have to implement these rules. I already have. All you have to do is use a REST web service that I've created for you.\n",
        "\n",
        "You'll want to use Python to make a call to my REST web service similar to the example URL below. The first part of the URL will be the same for everyone and every request that you make. What you will need to modify for each of your requests is the information after the question mark.\n",
        "\n",
        "```\n",
        "https://oumdj6oci2.execute-api.us-east-1.amazonaws.com/prd/?age=40&sex=male&risk_pct=0.1\n",
        "```\n",
        "\n",
        "The example above asks my web service where a 40-year old male with a risk of 10% should go.  What the web service will return back is a JSON string containing the information you need.  That JSON will look like this:\n",
        "\n",
        "```json\n",
        "{\n",
        "  \"age\": \"40\",\n",
        "  \"sex\": \"male\",\n",
        "  \"risk\": \"0.1\",\n",
        "  \"hospital\": \"Southwest Hospital and Medical Center\"\n",
        "}\n",
        "```\n",
        "\n",
        "My function is not smart enough to understand `'MALE'` is the same as `'male'`.  You have to send it exactly `'male'` or `'female'`\n",
        "\n",
        "1. Your job is to write a function called **find_hospital()** that takes age, sex, and risk as parameters.\n",
        "2. Your function should call this REST web service using the `requests` module\n",
        "3. Then your function will need to interpret the JSON it gets and return just the name of the hospital\n",
        "4. If anything fails, return None\n",
        "5. Include a good docstring with at least three test cases.\n"
      ]
    },
    {
      "cell_type": "code",
      "execution_count": 140,
      "metadata": {
        "id": "ld3ebRBvyVy_",
        "outputId": "f500e081-8104-4a09-e2e9-fd8b1a857a50",
        "colab": {
          "base_uri": "https://localhost:8080/"
        }
      },
      "outputs": [
        {
          "output_type": "stream",
          "name": "stdout",
          "text": [
            "Southwest Hospital and Medical Center\n",
            "Select Specialty Hospital - Northeast Atlanta\n",
            "Southwest Hospital and Medical Center\n",
            "Select Specialty Hospital - Northeast Atlanta\n"
          ]
        }
      ],
      "source": [
        "import requests\n",
        "\n",
        "def find_hospital(age, sex, risk):\n",
        "    \"\"\"\n",
        "    Find the hospital to send a patient based on their age, sex, and risk.\n",
        "\n",
        "    Parameters:\n",
        "    - age (str): The age of the patient.\n",
        "    - sex (str): The sex of the patient ('male' or 'female').\n",
        "    - risk (float): The risk percentage of the patient.\n",
        "\n",
        "    Returns:\n",
        "    - str: The name of the hospital to which the patient should be sent, or None if there is an error.\n",
        "\n",
        "       Example:\n",
        "\n",
        "    >>> find_hospital(\"40\", \"male\", 0.1)\n",
        "    'Southwest Hospital and Medical Center'\n",
        "\n",
        "    >>> find_hospital(\"35\", \"female\", 0.05)\n",
        "    'Select Specialty Hospital - Northeast Atlanta'\n",
        "\n",
        "    >>> find_hospital(\"55\", \"male\", 0.3)\n",
        "    'Southwest Hospital and Medical Center'\n",
        "\n",
        "    >>> find_hospital(\"25\", \"female\", 0.15)\n",
        "    'Select Specialty Hospital - Northeast Atlanta'\n",
        "    \"\"\"\n",
        "\n",
        "    # Make a GET request to the REST API with the provided parameters\n",
        "    url = f\"https://oumdj6oci2.execute-api.us-east-1.amazonaws.com/prd/?age={age}&sex={sex}&risk_pct={risk}\"\n",
        "    response = requests.get(url)\n",
        "\n",
        "    if response.status_code == 200:\n",
        "        try:\n",
        "            # Parse the JSON response\n",
        "            data = response.json()\n",
        "            hospital_name = data.get('hospital')\n",
        "            return hospital_name\n",
        "        except Exception as e:\n",
        "            print(f\"Error parsing JSON response: {e}\")\n",
        "            return None\n",
        "    else:\n",
        "        print(f\"Failed to retrieve data from the web service. Status code: {response.status_code}\")\n",
        "        return None\n",
        "\n",
        "# Test cases\n",
        "print(find_hospital(\"40\", \"male\", 0.1))  # Example test case\n",
        "print(find_hospital(\"35\", \"female\", 0.05))  # Test case 1\n",
        "print(find_hospital(\"55\", \"male\", 0.3))  # Test case 2\n",
        "print(find_hospital(\"25\", \"female\", 0.15))  # Test case 3\n"
      ]
    },
    {
      "cell_type": "code",
      "execution_count": 141,
      "metadata": {
        "id": "fKUpGkjzyVzA",
        "outputId": "d24d1061-533b-48fa-d119-e73d944cc2ea",
        "colab": {
          "base_uri": "https://localhost:8080/"
        }
      },
      "outputs": [
        {
          "output_type": "stream",
          "name": "stdout",
          "text": [
            "Finding tests in NoName\n",
            "Trying:\n",
            "    find_hospital(\"40\", \"male\", 0.1)\n",
            "Expecting:\n",
            "    'Southwest Hospital and Medical Center'\n",
            "ok\n",
            "Trying:\n",
            "    find_hospital(\"35\", \"female\", 0.05)\n",
            "Expecting:\n",
            "    'Select Specialty Hospital - Northeast Atlanta'\n",
            "ok\n",
            "Trying:\n",
            "    find_hospital(\"55\", \"male\", 0.3)\n",
            "Expecting:\n",
            "    'Southwest Hospital and Medical Center'\n",
            "ok\n",
            "Trying:\n",
            "    find_hospital(\"25\", \"female\", 0.15)\n",
            "Expecting:\n",
            "    'Select Specialty Hospital - Northeast Atlanta'\n",
            "ok\n"
          ]
        }
      ],
      "source": [
        "import doctest\n",
        "doctest.run_docstring_examples(find_hospital, globals(),verbose=True)"
      ]
    },
    {
      "cell_type": "markdown",
      "metadata": {
        "id": "rv7k2ZhWyVzA"
      },
      "source": [
        "## Part 3: Get the address for that hospital from a JSON file\n",
        "\n",
        "Great! Now we have code to tell us which hospital to send someone to... but we don't know where that hospital is. The next function we need to create is one that looks up the address of that hospital.  All of these hospitals are in Atlanta, Georgia.  We're going to use the list from this webpage to lookup the address for that hospital, based on its name.  https://www.officialusa.com/stateguides/health/hospitals/georgia.html\n",
        "\n",
        "Because we skipped the section about Beautiful Soup and working with HTML, I've converted this information into a JSON document for you.  It's available for you here.  Your code should retrieve this file using the `requests` module.\n",
        "\n",
        "`https://drive.google.com/uc?export=download&id=1fIFD-NkcdiMu941N4GjyMDWxiKsFJBw-`\n",
        "\n",
        "1. You need to create a function called **get_address()** that takes hospital name as a parameter and searches the data from this JSON file for the hospital you want to find.\n",
        "2. Your code will have to load the JSON and return the correct hospital based on name.\n",
        "3. If the hospital name isn't found, the function should return None.\n",
        "4. Be sure to use good docstring documentation and includes at least 3 test cases."
      ]
    },
    {
      "cell_type": "code",
      "execution_count": 142,
      "metadata": {
        "id": "31o_qOrZyVzA",
        "outputId": "70fe9f28-9b15-4738-f9ec-e9a24dcb848c",
        "colab": {
          "base_uri": "https://localhost:8080/"
        }
      },
      "outputs": [
        {
          "output_type": "stream",
          "name": "stdout",
          "text": [
            "706 NORTH PARRISH AVENUE\n",
            "1700 MEDICAL WAY\n",
            "3651 WHEELER ROAD\n",
            "None\n"
          ]
        }
      ],
      "source": [
        "import requests\n",
        "\n",
        "def get_address(hospital_name):\n",
        "    \"\"\"\n",
        "    Get the address of a hospital based on its name.\n",
        "\n",
        "    Parameters:\n",
        "    - hospital_name (str): The name of the hospital.\n",
        "\n",
        "    Returns:\n",
        "    - str or None: The address of the hospital or None if the hospital is not found.\n",
        "\n",
        "    Example:\n",
        "    >>> get_address(\"COOK MEDICAL CENTER\")\n",
        "    '706 NORTH PARRISH AVENUE'\n",
        "\n",
        "    >>> get_address(\"Eastside Medical Center\")\n",
        "    '1700 MEDICAL WAY'\n",
        "\n",
        "    >>> get_address(\"DOCTORS HOSPITAL\")\n",
        "    '3651 WHEELER ROAD'\n",
        "\n",
        "    >>> get_address(\"Unknown Hospital\")\n",
        "\n",
        "    \"\"\"\n",
        "    json_url = 'https://hds5210-data.s3.amazonaws.com/ga_hospitals.json'\n",
        "    hospital_name = hospital_name.upper()  # Convert the input to uppercase for a case-insensitive search\n",
        "\n",
        "    try:\n",
        "        response = requests.get(json_url)\n",
        "        if response.status_code == 200:\n",
        "            # Parse the JSON response\n",
        "            data = response.json()\n",
        "            hospital = data.get(hospital_name)\n",
        "            if hospital:\n",
        "                return hospital.get(\"ADDRESS\")\n",
        "    except Exception as e:\n",
        "        print(f\"Error: {e}\")\n",
        "    return None\n",
        "\n",
        "# Test cases\n",
        "print(get_address(\"COOK MEDICAL CENTER\"))  # Test case 1\n",
        "print(get_address(\"Eastside Medical Center\"))  # Test case 2\n",
        "print(get_address(\"DOCTORS HOSPITAL\"))  # Test case 3\n",
        "print(get_address(\"Unknown Hospital\"))  # Test case 4 (Hospital not found)\n",
        "\n"
      ]
    },
    {
      "cell_type": "code",
      "source": [
        "import doctest\n",
        "doctest.run_docstring_examples(get_address, globals(),verbose=True)"
      ],
      "metadata": {
        "id": "m_oVgcTlYbsI",
        "outputId": "35d95920-8aba-42d9-b260-a52ede6c38e7",
        "colab": {
          "base_uri": "https://localhost:8080/"
        }
      },
      "execution_count": 143,
      "outputs": [
        {
          "output_type": "stream",
          "name": "stdout",
          "text": [
            "Finding tests in NoName\n",
            "Trying:\n",
            "    get_address(\"COOK MEDICAL CENTER\")\n",
            "Expecting:\n",
            "    '706 NORTH PARRISH AVENUE'\n",
            "ok\n",
            "Trying:\n",
            "    get_address(\"Eastside Medical Center\")\n",
            "Expecting:\n",
            "    '1700 MEDICAL WAY'\n",
            "ok\n",
            "Trying:\n",
            "    get_address(\"DOCTORS HOSPITAL\")\n",
            "Expecting:\n",
            "    '3651 WHEELER ROAD'\n",
            "ok\n",
            "Trying:\n",
            "    get_address(\"Unknown Hospital\")\n",
            "Expecting nothing\n",
            "ok\n"
          ]
        }
      ]
    },
    {
      "cell_type": "markdown",
      "metadata": {
        "id": "oYVrPU_0yVzB"
      },
      "source": [
        "## Part 4: Run the risk calculator on a population\n",
        "\n",
        "At the link below, there is a file called `people.psv`.  It is a pipe-delimited (`|`) file with columns that match the inputs for the PRIEST calculation above.  Your code should use the `requests` module to retrieve the file from this URL.\n",
        "\n",
        "`https://drive.google.com/uc?export=download&id=1fLxJN9YGUqmqExrilxSS8furwUER5HHh`\n",
        "\n",
        "\n",
        "In addition, the file has a patient identifier in the first column.\n",
        "\n",
        "1. Write a function called **process_people()** that takes the file location above as its only parameter. Your Python program should use your code above to process all of these rows, determine the hospital and address, and return a list whose items are a dictionary like this: `{ patient_number: [sex, age, breath, o2sat, heart, systolic, temp, alertness, inspired, status, hospital, address]}`.  Look at the file in Part 5 for what the output looks like.\n",
        "2. Be sure to use good docstrings, but you don't need any tests in your doc strings.  I've provided those for you withe file in Part 5.\n",
        "\n",
        "\n",
        "**NOTE** that when running your code for all the 100 records in the `people.psv` file, it may take a few minutes to complete.  You're making multiple calls to the internet for each record, so that can take a little while.\n"
      ]
    },
    {
      "cell_type": "code",
      "execution_count": 144,
      "metadata": {
        "id": "hhNiOMujyVzB",
        "outputId": "4320aa4b-80bb-4b8b-8795-42c751419e5c",
        "colab": {
          "base_uri": "https://localhost:8080/"
        }
      },
      "outputs": [
        {
          "output_type": "stream",
          "name": "stdout",
          "text": [
            "\n",
            "[{'patient': ['sex', 'age', 'breath', 'o2 sat', 'heart', 'systolic bp', 'temp', 'alertness', 'inspired', 'status', None, None]}, {'E9559': ['FEMALE', '40', '24', '0.96', '105', '115', '34.9', 'ALERT', 'AIR', 'unrestricted normal activity', 'Emory Dunwoody Medical Center', '4500 NORTH SHALLOWFORD ROAD']}, {'E9385': ['Female', '51', '19', '0.99', '90', '91', '38.1', 'ALERT', 'supplemental oxygen', 'unrestricted normal activity', 'Emory Dunwoody Medical Center', '4500 NORTH SHALLOWFORD ROAD']}, {'E3067': ['female', '40', '29', '0.96', '105', '95', '38.1', 'ALERT', 'air', 'unrestricted normal activity', 'Emory Dunwoody Medical Center', '4500 NORTH SHALLOWFORD ROAD']}, {'E9422': ['FEMALE', '66', '19', '0.96', '135', '115', '38.1', 'ALERT', 'AIR', 'bed/chair bound, no self-care', 'Wesley Woods Geriatric Hospital', '1821 CLIFTON ROAD, NE']}, {'E8661': ['MALE', '18', '22', '0.95', '105', '115', '36.3', 'Confused or Not Alert', 'air', 'unrestricted normal activity', 'Emory Dunwoody Medical Center', '4500 NORTH SHALLOWFORD ROAD']}, {'E6235': ['Male', '16', '23', '0.96', '135', '115', '39.2', 'ALERT', 'supplemental oxygen', 'unrestricted normal activity', 'Hughes Spalding Childrens Hospital', '1711 TULLIE CIRCLE NE']}, {'E4451': ['MALE', '40', '8', '0.96', '135', '115', '38.1', 'ALERT', 'AIR', 'unrestricted normal activity', 'Emory Dunwoody Medical Center', '4500 NORTH SHALLOWFORD ROAD']}, {'E8433': ['FEMALE', '40', '23', '0.99', '89', '91', '38.1', 'ALERT', 'AIR', 'limited self-care', 'Emory Dunwoody Medical Center', '4500 NORTH SHALLOWFORD ROAD']}, {'E7593': ['FEMALE', '80', '23', '0.96', '105', '115', '38.1', 'ALERT', 'supplemental oxygen', 'limited activity, can self-care', 'Wesley Woods Geriatric Hospital', '1821 CLIFTON ROAD, NE']}, {'E3296': ['MALE', '51', '23', '0.95', '105', '115', '38.1', 'ALERT', 'AIR', 'unrestricted normal activity', 'Emory Dunwoody Medical Center', '4500 NORTH SHALLOWFORD ROAD']}, {'E4157': ['FEMALE', '40', '23', '0.96', '41', '115', '35.4', 'ALERT', 'AIR', 'unrestricted normal activity', 'Emory Dunwoody Medical Center', '4500 NORTH SHALLOWFORD ROAD']}, {'E7702': ['FEMALE', '40', '22', '0.96', '105', '115', '38.1', 'ALERT', 'supplemental oxygen', 'unrestricted normal activity', 'Emory Dunwoody Medical Center', '4500 NORTH SHALLOWFORD ROAD']}, {'E8158': ['MALE', '40', '20', '0.99', '135', '115', '39.2', 'ALERT', 'AIR', 'unrestricted normal activity', 'Emory Dunwoody Medical Center', '4500 NORTH SHALLOWFORD ROAD']}, {'E4795': ['female', '80', '11', '0.93', '105', '95', '40.8', 'ALERT', 'AIR', 'limited activity, can self-care', 'Wesley Woods Geriatric Hospital', '1821 CLIFTON ROAD, NE']}, {'E8800': ['MALE', '80', '22', '0.96', '105', '115', '39.2', 'confused or not alert', 'AIR', 'limited activity, can self-care', 'Wesley Woods Geriatric Hospital', '1821 CLIFTON ROAD, NE']}, {'E4855': ['female', '51', '23', '0.94', '135', '115', '38.1', 'ALERT', 'AIR', 'limited strenuous activity, can do light activity', 'Emory Dunwoody Medical Center', '4500 NORTH SHALLOWFORD ROAD']}, {'E9691': ['Male', '16', '10', '0.96', '105', '115', '38.1', 'ALERT', 'AIR', 'unrestricted normal activity', 'Hughes Spalding Childrens Hospital', '1711 TULLIE CIRCLE NE']}, {'E4535': ['FEMALE', '19', '11', '0.99', '105', '115', '35.4', 'ALERT', 'AIR', 'unrestricted normal activity', 'Emory Dunwoody Medical Center', '4500 NORTH SHALLOWFORD ROAD']}, {'E2360': ['Male', '40', '20', '0.96', '51', '95', '34.9', 'alert', 'supplemental oxygen', 'unrestricted normal activity', 'Emory Dunwoody Medical Center', '4500 NORTH SHALLOWFORD ROAD']}, {'E3447': ['MALE', '80', '22', '0.96', '41', '115', '38.1', 'ALERT', 'AIR', 'limited activity, can self-care', 'Wesley Woods Geriatric Hospital', '1821 CLIFTON ROAD, NE']}, {'E8208': ['FEMALE', '18', '23', '0.96', '135', '115', '38.1', 'ALERT', 'AIR', 'unrestricted normal activity', 'Emory Dunwoody Medical Center', '4500 NORTH SHALLOWFORD ROAD']}, {'E4428': ['FEMALE', '40', '23', '0.96', '38', '115', '36.3', 'ALERT', 'AIR', 'unrestricted normal activity', 'Emory Dunwoody Medical Center', '4500 NORTH SHALLOWFORD ROAD']}, {'E2766': ['Male', '18', '23', '0.96', '105', '115', '34.9', 'ALERT', 'AIR', 'unrestricted normal activity', 'Emory Dunwoody Medical Center', '4500 NORTH SHALLOWFORD ROAD']}, {'E3888': ['FEMALE', '51', '19', '0.96', '135', '115', '34.9', 'ALERT', 'AIR', 'unrestricted normal activity', 'Emory Dunwoody Medical Center', '4500 NORTH SHALLOWFORD ROAD']}, {'E7110': ['female', '85', '24', '0.99', '105', '101', '40.8', 'Confused or Not Alert', 'AIR', 'unrestricted normal activity', 'Wesley Woods Geriatric Hospital', '1821 CLIFTON ROAD, NE']}, {'E2668': ['FEMALE', '18', '22', '0.96', '105', '101', '38.1', 'ALERT', 'AIR', 'unrestricted normal activity', 'Emory Dunwoody Medical Center', '4500 NORTH SHALLOWFORD ROAD']}, {'E8482': ['Male', '40', '22', '0.96', '105', '230', '36.3', 'ALERT', 'AIR', 'limited self-care', 'Emory Dunwoody Medical Center', '4500 NORTH SHALLOWFORD ROAD']}, {'E9619': ['FEMALE', '40', '11', '0.98', '41', '115', '38.1', 'ALERT', 'AIR', 'unrestricted normal activity', 'Emory Dunwoody Medical Center', '4500 NORTH SHALLOWFORD ROAD']}, {'E1700': ['male', '40', '23', '0.96', '105', '115', '38.1', 'Confused or Not Alert', 'AIR', 'unrestricted normal activity', 'Emory Dunwoody Medical Center', '4500 NORTH SHALLOWFORD ROAD']}, {'E8585': ['MALE', '19', '8', '0.96', '105', '115', '36.3', 'alert', 'AIR', 'bed/chair bound, no self-care', 'Emory Dunwoody Medical Center', '4500 NORTH SHALLOWFORD ROAD']}, {'E8633': ['FEMALE', '40', '22', '0.96', '38', '91', '35.4', 'ALERT', 'AIR', 'unrestricted normal activity', 'Emory Dunwoody Medical Center', '4500 NORTH SHALLOWFORD ROAD']}, {'E2117': ['FEMALE', '16', '22', '0.96', '135', '115', '39.2', 'Confused or Not Alert', 'supplemental oxygen', 'bed/chair bound, no self-care', 'Hughes Spalding Childrens Hospital', '1711 TULLIE CIRCLE NE']}, {'E2322': ['female', '18', '22', '0.96', '105', '115', '38.1', 'alert', 'supplemental oxygen', 'unrestricted normal activity', 'Emory Dunwoody Medical Center', '4500 NORTH SHALLOWFORD ROAD']}, {'E6912': ['FEMALE', '51', '23', '0.96', '105', '95', '34.9', 'ALERT', 'AIR', 'unrestricted normal activity', 'Emory Dunwoody Medical Center', '4500 NORTH SHALLOWFORD ROAD']}, {'E5702': ['Male', '80', '23', '0.96', '135', '115', '38.1', 'ALERT', 'AIR', 'unrestricted normal activity', 'Wesley Woods Geriatric Hospital', '1821 CLIFTON ROAD, NE']}, {'E5513': ['FEMALE', '18', '12', '0.96', '105', '115', '38.1', 'ALERT', 'AIR', 'unrestricted normal activity', 'Emory Dunwoody Medical Center', '4500 NORTH SHALLOWFORD ROAD']}, {'E1861': ['FEMALE', '18', '22', '0.96', '105', '230', '38.1', 'ALERT', 'AIR', 'limited strenuous activity, can do light activity', 'Emory Dunwoody Medical Center', '4500 NORTH SHALLOWFORD ROAD']}, {'E4809': ['FEMALE', '40', '22', '0.96', '41', '230', '38.1', 'ALERT', 'AIR', 'unrestricted normal activity', 'Emory Dunwoody Medical Center', '4500 NORTH SHALLOWFORD ROAD']}, {'E1365': ['MALE', '22', '22', '0.96', '115', '101', '35.4', 'ALERT', 'AIR', 'bed/chair bound, no self-care', 'Emory Dunwoody Medical Center', '4500 NORTH SHALLOWFORD ROAD']}, {'E5984': ['Male', '40', '12', '0.93', '105', '91', '35.1', 'ALERT', 'AIR', 'limited activity, can self-care', 'Emory Dunwoody Medical Center', '4500 NORTH SHALLOWFORD ROAD']}, {'E7013': ['FEMALE', '66', '23', '0.96', '135', '89', '40.8', 'ALERT', 'supplemental oxygen', 'unrestricted normal activity', 'Wesley Woods Geriatric Hospital', '1821 CLIFTON ROAD, NE']}, {'E2331': ['female', '18', '23', '0.98', '105', '115', '38.1', 'ALERT', 'AIR', 'limited self-care', 'Emory Dunwoody Medical Center', '4500 NORTH SHALLOWFORD ROAD']}, {'E9938': ['MALE', '18', '12', '0.96', '105', '89', '35.1', 'ALERT', 'AIR', 'unrestricted normal activity', 'Emory Dunwoody Medical Center', '4500 NORTH SHALLOWFORD ROAD']}, {'E5121': ['Female', '18', '23', '0.96', '41', '95', '38.1', 'ALERT', 'supplemental oxygen', 'limited activity, can self-care', 'Emory Dunwoody Medical Center', '4500 NORTH SHALLOWFORD ROAD']}, {'E9280': ['male', '65', '10', '0.96', '135', '91', '38.1', 'ALERT', 'AIR', 'unrestricted normal activity', 'Wesley Woods Geriatric Hospital', '1821 CLIFTON ROAD, NE']}, {'E4762': ['FEMALE', '40', '12', '0.98', '105', '95', '38.1', 'ALERT', 'AIR', 'unrestricted normal activity', 'Emory Dunwoody Medical Center', '4500 NORTH SHALLOWFORD ROAD']}, {'E6885': ['MALE', '18', '23', '0.93', '89', '115', '35.1', 'confused or not alert', 'AIR', 'limited activity, can self-care', 'Emory Dunwoody Medical Center', '4500 NORTH SHALLOWFORD ROAD']}, {'E1695': ['FEMALE', '40', '22', '0.96', '41', '115', '38.1', 'ALERT', 'AIR', 'unrestricted normal activity', 'Emory Dunwoody Medical Center', '4500 NORTH SHALLOWFORD ROAD']}, {'E9658': ['Female', '18', '10', '0.96', '90', '230', '38.1', 'ALERT', 'AIR', 'limited self-care', 'Emory Dunwoody Medical Center', '4500 NORTH SHALLOWFORD ROAD']}, {'E1961': ['FEMALE', '65', '23', '0.96', '105', '115', '40.8', 'ALERT', 'AIR', 'limited activity, can self-care', 'Wesley Woods Geriatric Hospital', '1821 CLIFTON ROAD, NE']}, {'E9154': ['FEMALE', '66', '8', '0.94', '105', '89', '35.4', 'alert', 'AIR', 'bed/chair bound, no self-care', 'Wesley Woods Geriatric Hospital', '1821 CLIFTON ROAD, NE']}, {'E9417': ['FEMALE', '40', '23', '0.96', '105', '95', '38.1', 'alert', 'AIR', 'unrestricted normal activity', 'Emory Dunwoody Medical Center', '4500 NORTH SHALLOWFORD ROAD']}, {'E9979': ['Male', '18', '8', '0.96', '105', '115', '38.1', 'ALERT', 'AIR', 'limited strenuous activity, can do light activity', 'Emory Dunwoody Medical Center', '4500 NORTH SHALLOWFORD ROAD']}, {'E9316': ['MALE', '18', '23', '0.96', '135', '115', '38.1', 'ALERT', 'AIR', 'unrestricted normal activity', 'Emory Dunwoody Medical Center', '4500 NORTH SHALLOWFORD ROAD']}, {'E8146': ['Male', '18', '12', '0.96', '115', '115', '38.1', 'ALERT', 'AIR', 'unrestricted normal activity', 'Emory Dunwoody Medical Center', '4500 NORTH SHALLOWFORD ROAD']}, {'E3093': ['female', '40', '29', '0.96', '105', '95', '38.1', 'ALERT', 'AIR', 'unrestricted normal activity', 'Emory Dunwoody Medical Center', '4500 NORTH SHALLOWFORD ROAD']}, {'E8829': ['male', '65', '12', '0.96', '51', '230', '38.1', 'alert', 'AIR', 'unrestricted normal activity', 'Wesley Woods Geriatric Hospital', '1821 CLIFTON ROAD, NE']}, {'E1453': ['male', '18', '24', '0.99', '105', '115', '38.1', 'ALERT', 'AIR', 'unrestricted normal activity', 'Emory Dunwoody Medical Center', '4500 NORTH SHALLOWFORD ROAD']}, {'E5777': ['female', '66', '23', '0.96', '115', '89', '38.1', 'ALERT', 'AIR', 'limited strenuous activity, can do light activity', 'Wesley Woods Geriatric Hospital', '1821 CLIFTON ROAD, NE']}, {'E4564': ['FEMALE', '18', '24', '0.96', '41', '115', '35.1', 'confused or not alert', 'AIR', 'unrestricted normal activity', 'Emory Dunwoody Medical Center', '4500 NORTH SHALLOWFORD ROAD']}, {'E1904': ['FEMALE', '40', '22', '0.93', '38', '95', '38.1', 'Confused or Not Alert', 'AIR', 'unrestricted normal activity', 'Emory Dunwoody Medical Center', '4500 NORTH SHALLOWFORD ROAD']}, {'E8746': ['Female', '40', '12', '0.93', '105', '115', '38.1', 'ALERT', 'AIR', 'unrestricted normal activity', 'Emory Dunwoody Medical Center', '4500 NORTH SHALLOWFORD ROAD']}, {'E9165': ['FEMALE', '19', '22', '0.98', '50', '95', '38.1', 'ALERT', 'AIR', 'limited activity, can self-care', 'Emory Dunwoody Medical Center', '4500 NORTH SHALLOWFORD ROAD']}, {'E9305': ['FEMALE', '40', '8', '0.89', '105', '101', '38.1', 'ALERT', 'supplemental oxygen', 'unrestricted normal activity', 'Emory Dunwoody Medical Center', '4500 NORTH SHALLOWFORD ROAD']}, {'E3217': ['Female', '40', '10', '0.95', '105', '95', '38.1', 'ALERT', 'AIR', 'unrestricted normal activity', 'Emory Dunwoody Medical Center', '4500 NORTH SHALLOWFORD ROAD']}, {'E3127': ['Female', '40', '8', '0.96', '38', '115', '36.3', 'ALERT', 'AIR', 'limited strenuous activity, can do light activity', 'Emory Dunwoody Medical Center', '4500 NORTH SHALLOWFORD ROAD']}, {'E7501': ['female', '18', '23', '0.96', '135', '115', '38.1', 'ALERT', 'AIR', 'unrestricted normal activity', 'Emory Dunwoody Medical Center', '4500 NORTH SHALLOWFORD ROAD']}, {'E4997': ['female', '40', '23', '0.94', '105', '115', '36.3', 'ALERT', 'AIR', 'unrestricted normal activity', 'Emory Dunwoody Medical Center', '4500 NORTH SHALLOWFORD ROAD']}, {'E6181': ['female', '19', '23', '0.96', '89', '115', '38.1', 'ALERT', 'AIR', 'unrestricted normal activity', 'Emory Dunwoody Medical Center', '4500 NORTH SHALLOWFORD ROAD']}, {'E1073': ['FEMALE', '18', '24', '0.95', '50', '115', '38.1', 'Confused or Not Alert', 'AIR', 'limited self-care', 'Emory Dunwoody Medical Center', '4500 NORTH SHALLOWFORD ROAD']}, {'E9608': ['female', '80', '12', '0.96', '50', '89', '38.1', 'ALERT', 'AIR', 'unrestricted normal activity', 'Wesley Woods Geriatric Hospital', '1821 CLIFTON ROAD, NE']}, {'E7663': ['FEMALE', '18', '11', '0.96', '105', '115', '38.1', 'ALERT', 'air', 'limited self-care', 'Emory Dunwoody Medical Center', '4500 NORTH SHALLOWFORD ROAD']}, {'E7648': ['female', '66', '12', '0.98', '41', '115', '34.9', 'ALERT', 'air', 'unrestricted normal activity', 'Wesley Woods Geriatric Hospital', '1821 CLIFTON ROAD, NE']}, {'E1883': ['male', '40', '10', '0.98', '105', '115', '38.1', 'ALERT', 'AIR', 'unrestricted normal activity', 'Emory Dunwoody Medical Center', '4500 NORTH SHALLOWFORD ROAD']}, {'E2001': ['FEMALE', '18', '12', '0.99', '51', '115', '38.1', 'Confused or Not Alert', 'AIR', 'unrestricted normal activity', 'Emory Dunwoody Medical Center', '4500 NORTH SHALLOWFORD ROAD']}, {'E2418': ['male', '18', '20', '0.94', '105', '115', '35.4', 'ALERT', 'air', 'unrestricted normal activity', 'Emory Dunwoody Medical Center', '4500 NORTH SHALLOWFORD ROAD']}, {'E3739': ['Male', '85', '10', '0.96', '105', '115', '38.1', 'Confused or Not Alert', 'supplemental oxygen', 'unrestricted normal activity', 'Wesley Woods Geriatric Hospital', '1821 CLIFTON ROAD, NE']}, {'E8351': ['FEMALE', '40', '23', '0.96', '90', '101', '38.1', 'ALERT', 'AIR', 'unrestricted normal activity', 'Emory Dunwoody Medical Center', '4500 NORTH SHALLOWFORD ROAD']}, {'E2882': ['Male', '51', '24', '0.98', '105', '91', '38.1', 'ALERT', 'AIR', 'unrestricted normal activity', 'Emory Dunwoody Medical Center', '4500 NORTH SHALLOWFORD ROAD']}, {'E1902': ['Female', '85', '22', '0.96', '105', '115', '38.1', 'ALERT', 'supplemental oxygen', 'unrestricted normal activity', 'Wesley Woods Geriatric Hospital', '1821 CLIFTON ROAD, NE']}, {'E2155': ['Male', '18', '22', '0.94', '105', '115', '38.1', 'ALERT', 'air', 'limited self-care', 'Emory Dunwoody Medical Center', '4500 NORTH SHALLOWFORD ROAD']}, {'E4345': ['Female', '40', '19', '0.89', '41', '115', '34.9', 'ALERT', 'air', 'unrestricted normal activity', 'Emory Dunwoody Medical Center', '4500 NORTH SHALLOWFORD ROAD']}, {'E4194': ['FEMALE', '40', '12', '0.95', '105', '91', '38.1', 'ALERT', 'AIR', 'limited self-care', 'Emory Dunwoody Medical Center', '4500 NORTH SHALLOWFORD ROAD']}, {'E5211': ['male', '65', '22', '0.96', '41', '115', '38.1', 'ALERT', 'AIR', 'unrestricted normal activity', 'Wesley Woods Geriatric Hospital', '1821 CLIFTON ROAD, NE']}, {'E5488': ['Female', '40', '12', '0.94', '105', '101', '38.1', 'ALERT', 'AIR', 'unrestricted normal activity', 'Emory Dunwoody Medical Center', '4500 NORTH SHALLOWFORD ROAD']}, {'E8560': ['FEMALE', '40', '23', '0.96', '41', '115', '35.1', 'confused or not alert', 'AIR', 'unrestricted normal activity', 'Emory Dunwoody Medical Center', '4500 NORTH SHALLOWFORD ROAD']}, {'E2995': ['FEMALE', '18', '20', '0.99', '105', '95', '35.1', 'alert', 'AIR', 'unrestricted normal activity', 'Emory Dunwoody Medical Center', '4500 NORTH SHALLOWFORD ROAD']}, {'E3422': ['FEMALE', '40', '8', '0.96', '105', '115', '35.4', 'ALERT', 'AIR', 'unrestricted normal activity', 'Emory Dunwoody Medical Center', '4500 NORTH SHALLOWFORD ROAD']}, {'E7707': ['Female', '18', '20', '0.96', '38', '115', '36.3', 'ALERT', 'air', 'limited strenuous activity, can do light activity', 'Emory Dunwoody Medical Center', '4500 NORTH SHALLOWFORD ROAD']}, {'E3119': ['FEMALE', '18', '20', '0.99', '135', '89', '35.1', 'ALERT', 'supplemental oxygen', 'unrestricted normal activity', 'Emory Dunwoody Medical Center', '4500 NORTH SHALLOWFORD ROAD']}, {'E1419': ['male', '65', '23', '0.99', '105', '91', '38.1', 'alert', 'AIR', 'unrestricted normal activity', 'Wesley Woods Geriatric Hospital', '1821 CLIFTON ROAD, NE']}, {'E7748': ['male', '40', '23', '0.93', '105', '115', '38.1', 'ALERT', 'supplemental oxygen', 'unrestricted normal activity', 'Emory Dunwoody Medical Center', '4500 NORTH SHALLOWFORD ROAD']}, {'E7251': ['Female', '40', '12', '0.96', '105', '91', '38.1', 'alert', 'AIR', 'unrestricted normal activity', 'Emory Dunwoody Medical Center', '4500 NORTH SHALLOWFORD ROAD']}, {'E1235': ['FEMALE', '40', '29', '0.96', '41', '115', '38.1', 'ALERT', 'AIR', 'bed/chair bound, no self-care', 'Emory Dunwoody Medical Center', '4500 NORTH SHALLOWFORD ROAD']}, {'E5361': ['FEMALE', '18', '22', '0.93', '90', '101', '38.1', 'confused or not alert', 'AIR', 'unrestricted normal activity', 'Emory Dunwoody Medical Center', '4500 NORTH SHALLOWFORD ROAD']}, {'E7130': ['FEMALE', '18', '22', '0.96', '50', '115', '38.1', 'ALERT', 'AIR', 'limited strenuous activity, can do light activity', 'Emory Dunwoody Medical Center', '4500 NORTH SHALLOWFORD ROAD']}, {'E5665': ['FEMALE', '85', '23', '0.96', '115', '115', '38.1', 'ALERT', 'AIR', 'unrestricted normal activity', 'Wesley Woods Geriatric Hospital', '1821 CLIFTON ROAD, NE']}, {'E9957': ['Female', '40', '22', '0.98', '89', '230', '38.1', 'alert', 'AIR', 'unrestricted normal activity', 'Emory Dunwoody Medical Center', '4500 NORTH SHALLOWFORD ROAD']}, {'E10000': ['FEMALE', '18', '23', '0.96', '105', '101', '38.1', 'ALERT', 'AIR', 'limited activity, can self-care', 'Emory Dunwoody Medical Center', '4500 NORTH SHALLOWFORD ROAD']}]\n"
          ]
        }
      ],
      "source": [
        "import requests\n",
        "def find_hospital(age, sex, risk):\n",
        "\n",
        "\n",
        "    # Make a GET request to the REST API with the provided parameters\n",
        "    url = f\"https://oumdj6oci2.execute-api.us-east-1.amazonaws.com/prd/?age={age}&sex={sex}&risk_pct={risk}\"\n",
        "    response = requests.get(url)\n",
        "\n",
        "    if response.status_code == 200:\n",
        "        try:\n",
        "            # Parse the JSON response\n",
        "            data = response.json()\n",
        "            hospital_name = data.get('hospital')\n",
        "            return hospital_name\n",
        "        except Exception as e:\n",
        "            print(f\"Error parsing JSON response: {e}\")\n",
        "            return None\n",
        "    else:\n",
        "        print(f\"\")\n",
        "        return None\n",
        "\n",
        "\n",
        "import requests\n",
        "\n",
        "def get_address(hospital_name):\n",
        "\n",
        "    json_url = 'https://hds5210-data.s3.amazonaws.com/ga_hospitals.json'\n",
        "    hospital_name = hospital_name.upper()  # Convert the input to uppercase for a case-insensitive search\n",
        "\n",
        "    try:\n",
        "        response = requests.get(json_url)\n",
        "        if response.status_code == 200:\n",
        "            # Parse the JSON response\n",
        "            data = response.json()\n",
        "            hospital = data.get(hospital_name)\n",
        "            if hospital:\n",
        "                return hospital.get(\"ADDRESS\")\n",
        "\n",
        "    except Exception as e:\n",
        "        print(f\"Error: {e}\")\n",
        "\n",
        "    return None\n",
        "\n",
        "def process_people(file_location):\n",
        "\n",
        "    data = []\n",
        "    try:\n",
        "        response = requests.get(file_location)\n",
        "        if response.status_code == 200:\n",
        "            lines = response.text.split('\\n')\n",
        "            for line in lines:\n",
        "                values = line.strip().split('|')\n",
        "                if len(values) == 11:\n",
        "                    patient_number, sex, age, breath, o2sat, heart, systolic, temp, alertness, inspired, status = values\n",
        "                    # Convert relevant parameters to float\n",
        "\n",
        "                    hospital_name = find_hospital(age, sex, heart)\n",
        "                    address = get_address(hospital_name) if hospital_name else hospital_name\n",
        "                    data.append({\n",
        "                        patient_number: [sex, age, breath, o2sat, heart, systolic, temp, alertness, inspired, status, hospital_name, address]\n",
        "                    })\n",
        "    except Exception as e:\n",
        "        print(f\"\")\n",
        "    return data\n",
        "\n",
        "# Example usage:\n",
        "file_location = \"https://hds5210-data.s3.amazonaws.com/people.psv\"\n",
        "result = process_people(file_location)\n",
        "print(result)"
      ]
    },
    {
      "cell_type": "markdown",
      "metadata": {
        "id": "-M5UN_u7yVzC"
      },
      "source": [
        "## Part 5: Checking your final results\n",
        "\n",
        "The final step is to check your results.  You should be able to compare your results to the output in `people_results.json` at the link below.  Write some code to check your results.  This does not need to be a function.\n",
        "\n",
        "`https://drive.google.com/uc?export=download&id=1gx1SSC20mO5XL6uYD0mdcM_cL91fcIW5`\n"
      ]
    },
    {
      "cell_type": "code",
      "execution_count": 145,
      "metadata": {
        "id": "SxV9pRs_yVzC",
        "outputId": "fb51a2c3-cbcf-4425-f956-d79d45c36069",
        "colab": {
          "base_uri": "https://localhost:8080/"
        }
      },
      "outputs": [
        {
          "output_type": "stream",
          "name": "stdout",
          "text": [
            "Results Matched\n"
          ]
        }
      ],
      "source": [
        "import requests\n",
        "import json\n",
        "\n",
        "# URLs for the two JSON files to compare\n",
        "url1 = \"https://hds5210-data.s3.amazonaws.com/people_results.json\"\n",
        "url2 = \"https://drive.google.com/uc?export=download&id=1gx1SSC20mO5XL6uYD0mdcM_cL91fcIW5\"\n",
        "\n",
        "# Function to retrieve JSON data from a URL\n",
        "def get_json_from_url(url):\n",
        "    response = requests.get(url)\n",
        "    if response.status_code == 200:\n",
        "        return json.loads(response.text)\n",
        "    else:\n",
        "        return None\n",
        "\n",
        "# Get JSON data from the URLs\n",
        "json_data1 = get_json_from_url(url1)\n",
        "json_data2 = get_json_from_url(url2)\n",
        "\n",
        "# Compare the two JSON objects\n",
        "if json_data1 == json_data2:\n",
        "    print(\"Results Matched\")\n",
        "else:\n",
        "    print(\"Results Not Matched\")\n"
      ]
    },
    {
      "cell_type": "code",
      "source": [
        "from google.colab import drive\n",
        "drive.mount('/content/drive', force_remount=True)"
      ],
      "metadata": {
        "id": "ijWqn_ZHH-QL",
        "outputId": "0e86ca88-8008-4ae9-ebd0-0c5d20013d3b",
        "colab": {
          "base_uri": "https://localhost:8080/"
        }
      },
      "execution_count": 146,
      "outputs": [
        {
          "output_type": "stream",
          "name": "stdout",
          "text": [
            "Mounted at /content/drive\n"
          ]
        }
      ]
    },
    {
      "cell_type": "markdown",
      "metadata": {
        "id": "0kFKMCZayVzC"
      },
      "source": [
        "---\n",
        "\n",
        "## Check your work above\n",
        "\n",
        "If you didn't get them all correct, take a few minutes to think through those that aren't correct.\n",
        "\n",
        "\n",
        "## Submitting Your Work\n",
        "\n",
        "Submit your work as usual into a folder named `midterm`"
      ]
    },
    {
      "cell_type": "markdown",
      "metadata": {
        "id": "LY1iKMGPyVzD"
      },
      "source": [
        "---"
      ]
    }
  ],
  "metadata": {
    "kernelspec": {
      "display_name": "Python 3",
      "language": "python",
      "name": "python3"
    },
    "language_info": {
      "codemirror_mode": {
        "name": "ipython",
        "version": 3
      },
      "file_extension": ".py",
      "mimetype": "text/x-python",
      "name": "python",
      "nbconvert_exporter": "python",
      "pygments_lexer": "ipython3",
      "version": "3.9.16"
    },
    "colab": {
      "provenance": []
    }
  },
  "nbformat": 4,
  "nbformat_minor": 0
}